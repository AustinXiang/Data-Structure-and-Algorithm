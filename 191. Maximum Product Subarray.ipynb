{
 "cells": [
  {
   "cell_type": "code",
   "execution_count": 2,
   "metadata": {},
   "outputs": [],
   "source": [
    "class Solution:\n",
    "    \"\"\"\n",
    "    @param nums: An array of integers\n",
    "    @return: An integer\n",
    "    \"\"\"\n",
    "    def maxProduct(self, nums):\n",
    "        # write your code here\n",
    "        if nums is None or len(nums) == 0:\n",
    "            return\n",
    "        \n",
    "        max_list = [0]*len(nums)\n",
    "        min_list = [0]*len(nums)\n",
    "        \n",
    "        max_list[0], min_list[0] = nums[0], nums[0]\n",
    "        \n",
    "        for i in range(1, len(nums)):\n",
    "            max_list[i] = max(nums[i], max(max_list[i-1]*nums[i], min_list[i-1]*nums[i]))\n",
    "            min_list[i] = min(nums[i], min(max_list[i-1]*nums[i], min_list[i-1]*nums[i]))\n",
    "            \n",
    "        max_item = nums[0]\n",
    "        for i in range(0, len(nums)):\n",
    "            if max_list[i] > max_item:\n",
    "                max_item = max_list[i]\n",
    "            if min_list[i] > max_item:\n",
    "                max_item = min_list[i]\n",
    "                \n",
    "        return max_item\n",
    "            \n",
    "        \n",
    "        \n"
   ]
  },
  {
   "cell_type": "code",
   "execution_count": null,
   "metadata": {},
   "outputs": [],
   "source": []
  }
 ],
 "metadata": {
  "kernelspec": {
   "display_name": "Python 3",
   "language": "python",
   "name": "python3"
  },
  "language_info": {
   "codemirror_mode": {
    "name": "ipython",
    "version": 3
   },
   "file_extension": ".py",
   "mimetype": "text/x-python",
   "name": "python",
   "nbconvert_exporter": "python",
   "pygments_lexer": "ipython3",
   "version": "3.6.8"
  }
 },
 "nbformat": 4,
 "nbformat_minor": 2
}
