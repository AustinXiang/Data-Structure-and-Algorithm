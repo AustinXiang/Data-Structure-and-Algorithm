{
 "cells": [
  {
   "cell_type": "code",
   "execution_count": 2,
   "metadata": {},
   "outputs": [],
   "source": [
    "class Solution:\n",
    "    \"\"\"\n",
    "    @param: : an array of arrays\n",
    "    @return: the sum of all unique weighted paths\n",
    "    \"\"\"\n",
    "\n",
    "    def uniqueWeightedPaths(self, grid):\n",
    "        # write your codes here\n",
    "        m = len(grid)\n",
    "        n = len(grid[0])\n",
    "        \n",
    "        if grid is None or m == 0 or n == 0:\n",
    "            return 0\n",
    "            \n",
    "        # make up a     \n",
    "        set_matrix = [[set() for _ in range(n)] for _ in range(m)]\n",
    "        \n",
    "        for i  in range(m):\n",
    "            for j in range(n):\n",
    "                if i == 0 and j == 0:\n",
    "                    set_matrix[i][j].add(grid[i][j])\n",
    "                elif i == 0:\n",
    "                    for item in set_matrix[i][j-1]:\n",
    "                        set_matrix[i][j].add(item + grid[i][j])\n",
    "                elif j == 0:\n",
    "                    for item in set_matrix[i-1][j]:\n",
    "                        set_matrix[i][j].add(item + grid[i][j])\n",
    "                else:\n",
    "                    for item in set_matrix[i-1][j]:\n",
    "                        set_matrix[i][j].add(item + grid[i][j])\n",
    "                    for item in set_matrix[i][j-1]:\n",
    "                        set_matrix[i][j].add(item + grid[i][j])\n",
    "                        \n",
    "        result = 0\n",
    "        for val in set_matrix[-1][-1]:\n",
    "            result = result + val\n",
    "            \n",
    "        return result\n",
    "        "
   ]
  },
  {
   "cell_type": "code",
   "execution_count": null,
   "metadata": {},
   "outputs": [],
   "source": []
  }
 ],
 "metadata": {
  "kernelspec": {
   "display_name": "Python 3",
   "language": "python",
   "name": "python3"
  },
  "language_info": {
   "codemirror_mode": {
    "name": "ipython",
    "version": 3
   },
   "file_extension": ".py",
   "mimetype": "text/x-python",
   "name": "python",
   "nbconvert_exporter": "python",
   "pygments_lexer": "ipython3",
   "version": "3.6.8"
  }
 },
 "nbformat": 4,
 "nbformat_minor": 2
}
