{
 "cells": [
  {
   "cell_type": "code",
   "execution_count": 1,
   "metadata": {},
   "outputs": [],
   "source": [
    "class Solution:\n",
    "    \"\"\"\n",
    "    @param A: an integer sorted array\n",
    "    @param target: an integer to be inserted\n",
    "    @return: a list of length 2, [index1, index2]\n",
    "    \"\"\"\n",
    "    def searchRange(self, A, target):\n",
    "        # write your code here\n",
    "        result = [-1,-1]\n",
    "        \n",
    "        if A is None or len(A) == 0:\n",
    "            return result\n",
    "            \n",
    "        # first we look for left boundary\n",
    "        left = 0\n",
    "        right = len(A) - 1\n",
    "        \n",
    "        while left + 1 < right:\n",
    "            middle = left + int((right-left)/2)\n",
    "            if A[middle] == target:\n",
    "                right = middle\n",
    "            elif A[middle] > target:\n",
    "                right = middle\n",
    "            else:\n",
    "                left = middle\n",
    "                \n",
    "        if A[right] == target:\n",
    "            result[0] = right\n",
    "        if A[left] == target:\n",
    "            result[0] = left\n",
    "            \n",
    "        # then we find the right boundary\n",
    "        left = 0\n",
    "        right = len(A) - 1\n",
    "        \n",
    "        while left + 1 < right:\n",
    "            middle = left + int((right-left)/2)\n",
    "            if A[middle] == target:\n",
    "                left = middle\n",
    "            elif A[middle] > target:\n",
    "                right = middle\n",
    "            else:\n",
    "                left = middle\n",
    "                \n",
    "        if A[left] == target:\n",
    "            result[1] = left\n",
    "        if A[right] == target:\n",
    "            result[1] = right \n",
    "            \n",
    "        return result\n",
    "            "
   ]
  },
  {
   "cell_type": "code",
   "execution_count": 2,
   "metadata": {},
   "outputs": [],
   "source": [
    "# It passed all testcases"
   ]
  },
  {
   "cell_type": "code",
   "execution_count": null,
   "metadata": {},
   "outputs": [],
   "source": []
  }
 ],
 "metadata": {
  "kernelspec": {
   "display_name": "Python 3",
   "language": "python",
   "name": "python3"
  },
  "language_info": {
   "codemirror_mode": {
    "name": "ipython",
    "version": 3
   },
   "file_extension": ".py",
   "mimetype": "text/x-python",
   "name": "python",
   "nbconvert_exporter": "python",
   "pygments_lexer": "ipython3",
   "version": "3.6.8"
  }
 },
 "nbformat": 4,
 "nbformat_minor": 2
}
