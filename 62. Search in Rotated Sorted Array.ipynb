{
 "cells": [
  {
   "cell_type": "code",
   "execution_count": 1,
   "metadata": {},
   "outputs": [],
   "source": [
    "class Solution:\n",
    "    \"\"\"\n",
    "    @param A: an integer rotated sorted array\n",
    "    @param target: an integer to be searched\n",
    "    @return: an integer\n",
    "    \"\"\"\n",
    "    def search(self, A, target):\n",
    "        # write your code here\n",
    "        if A is None or len(A) == 0:\n",
    "            return -1\n",
    "            \n",
    "        start = 0\n",
    "        end = len(A) - 1\n",
    "        \n",
    "        while start + 1 < end:\n",
    "            middle = start + (end - start)//2\n",
    "\n",
    "            if A[middle] >= A[start]:\n",
    "                if target>= A[start] and target <= A[middle]:\n",
    "                    end = middle\n",
    "                else:\n",
    "                    start = middle\n",
    "            else:\n",
    "                if target >= A[middle] and target <= A[end]:\n",
    "                    start = middle\n",
    "                else:\n",
    "                    end = middle\n",
    "                    \n",
    "        if A[start] == target:\n",
    "            return start\n",
    "        \n",
    "        if A[end] == target:\n",
    "            return end\n",
    "\n",
    "        return -1"
   ]
  },
  {
   "cell_type": "code",
   "execution_count": null,
   "metadata": {},
   "outputs": [],
   "source": []
  }
 ],
 "metadata": {
  "kernelspec": {
   "display_name": "Python 3",
   "language": "python",
   "name": "python3"
  },
  "language_info": {
   "codemirror_mode": {
    "name": "ipython",
    "version": 3
   },
   "file_extension": ".py",
   "mimetype": "text/x-python",
   "name": "python",
   "nbconvert_exporter": "python",
   "pygments_lexer": "ipython3",
   "version": "3.6.8"
  }
 },
 "nbformat": 4,
 "nbformat_minor": 2
}
