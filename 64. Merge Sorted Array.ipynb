{
 "cells": [
  {
   "cell_type": "code",
   "execution_count": 3,
   "metadata": {},
   "outputs": [],
   "source": [
    "def mergeSortedArray(A, m, B, n):\n",
    "    # write your code here\n",
    "\n",
    "    i, j = 0, 0\n",
    "    result = []\n",
    "        \n",
    "    while i < m and j < n:\n",
    "        if A[i] < B[j]:\n",
    "            result.append(A[i])\n",
    "            i += 1\n",
    "        else:\n",
    "            result.append(B[j])\n",
    "            j += 1\n",
    "                \n",
    "    while i < m:\n",
    "        result.append(A[i])\n",
    "        i += 1\n",
    "            \n",
    "    while j < n:\n",
    "        result.append(B[j])\n",
    "        j += 1\n",
    "            \n",
    "    return result"
   ]
  },
  {
   "cell_type": "code",
   "execution_count": 4,
   "metadata": {},
   "outputs": [],
   "source": [
    "A = [1,2,3]\n",
    "m = 3\n",
    "B = [4,5]\n",
    "n = 2"
   ]
  },
  {
   "cell_type": "code",
   "execution_count": 5,
   "metadata": {},
   "outputs": [
    {
     "data": {
      "text/plain": [
       "[1, 2, 3, 4, 5]"
      ]
     },
     "execution_count": 5,
     "metadata": {},
     "output_type": "execute_result"
    }
   ],
   "source": [
    "mergeSortedArray(A, m, B, n)"
   ]
  },
  {
   "cell_type": "code",
   "execution_count": null,
   "metadata": {},
   "outputs": [],
   "source": []
  }
 ],
 "metadata": {
  "kernelspec": {
   "display_name": "Python 3",
   "language": "python",
   "name": "python3"
  },
  "language_info": {
   "codemirror_mode": {
    "name": "ipython",
    "version": 3
   },
   "file_extension": ".py",
   "mimetype": "text/x-python",
   "name": "python",
   "nbconvert_exporter": "python",
   "pygments_lexer": "ipython3",
   "version": "3.6.8"
  }
 },
 "nbformat": 4,
 "nbformat_minor": 2
}
