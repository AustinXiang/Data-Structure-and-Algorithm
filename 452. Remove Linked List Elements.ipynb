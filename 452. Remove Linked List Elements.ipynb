{
 "cells": [
  {
   "cell_type": "code",
   "execution_count": 2,
   "metadata": {},
   "outputs": [],
   "source": [
    "\"\"\"\n",
    "Definition of ListNode\n",
    "class ListNode(object):\n",
    "    def __init__(self, val, next=None):\n",
    "        self.val = val\n",
    "        self.next = next\n",
    "\"\"\"\n",
    "\n",
    "class Solution:\n",
    "    \"\"\"\n",
    "    @param head: a ListNode\n",
    "    @param val: An integer\n",
    "    @return: a ListNode\n",
    "    \"\"\"\n",
    "    def removeElements(self, head, val):\n",
    "        # write your code here\n",
    "        \n",
    "        if head is None:\n",
    "            return head\n",
    "            \n",
    "        dummy = ListNode(val)\n",
    "        dummy.next = head\n",
    "        pre = dummy\n",
    "        \n",
    "        while pre.next is not None:\n",
    "            if pre.next.val == val:\n",
    "                pre.next = pre.next.next\n",
    "            else:\n",
    "                pre = pre.next\n",
    "            \n",
    "        return dummy.next\n",
    "            "
   ]
  },
  {
   "cell_type": "code",
   "execution_count": null,
   "metadata": {},
   "outputs": [],
   "source": []
  }
 ],
 "metadata": {
  "kernelspec": {
   "display_name": "Python 3",
   "language": "python",
   "name": "python3"
  },
  "language_info": {
   "codemirror_mode": {
    "name": "ipython",
    "version": 3
   },
   "file_extension": ".py",
   "mimetype": "text/x-python",
   "name": "python",
   "nbconvert_exporter": "python",
   "pygments_lexer": "ipython3",
   "version": "3.6.8"
  }
 },
 "nbformat": 4,
 "nbformat_minor": 2
}
