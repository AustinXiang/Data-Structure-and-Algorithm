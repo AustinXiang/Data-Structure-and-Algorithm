{
 "cells": [
  {
   "cell_type": "code",
   "execution_count": 2,
   "metadata": {},
   "outputs": [],
   "source": [
    "\"\"\"\n",
    "Definition of TreeNode:\n",
    "class TreeNode:\n",
    "    def __init__(self, val):\n",
    "        self.val = val\n",
    "        self.left, self.right = None, None\n",
    "\"\"\"\n",
    "\n",
    "class Solution:\n",
    "    \"\"\"\n",
    "    @param root: the binary tree of the  root\n",
    "    @return: return a list of double\n",
    "    \"\"\"\n",
    "    def averageOfLevels(self, root):\n",
    "        # write your code here\n",
    "        result = []\n",
    "        if root is None:\n",
    "            return result\n",
    "            \n",
    "        level = []\n",
    "        level.append(root)\n",
    "        \n",
    "        while level:\n",
    "            temp_sum = 0.0\n",
    "            temp_count = 0.0\n",
    "            for i in range(0, len(level)):\n",
    "                temp_node = level.pop(0)\n",
    "                if temp_node.left:\n",
    "                    level.append(temp_node.left)\n",
    "                if temp_node.right:\n",
    "                    level.append(temp_node.right)\n",
    "                temp_sum = temp_sum + temp_node.val\n",
    "                temp_count = temp_count + 1\n",
    "            result.append(temp_sum/temp_count)\n",
    "            \n",
    "        return result"
   ]
  },
  {
   "cell_type": "code",
   "execution_count": null,
   "metadata": {},
   "outputs": [],
   "source": []
  }
 ],
 "metadata": {
  "kernelspec": {
   "display_name": "Python 3",
   "language": "python",
   "name": "python3"
  },
  "language_info": {
   "codemirror_mode": {
    "name": "ipython",
    "version": 3
   },
   "file_extension": ".py",
   "mimetype": "text/x-python",
   "name": "python",
   "nbconvert_exporter": "python",
   "pygments_lexer": "ipython3",
   "version": "3.6.8"
  }
 },
 "nbformat": 4,
 "nbformat_minor": 2
}
