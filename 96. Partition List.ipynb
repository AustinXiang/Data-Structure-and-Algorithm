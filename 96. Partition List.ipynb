{
 "cells": [
  {
   "cell_type": "code",
   "execution_count": 2,
   "metadata": {},
   "outputs": [],
   "source": [
    "\"\"\"\n",
    "Definition of ListNode\n",
    "class ListNode(object):\n",
    "    def __init__(self, val, next=None):\n",
    "        self.val = val\n",
    "        self.next = next\n",
    "\"\"\"\n",
    "\n",
    "class Solution:\n",
    "    \"\"\"\n",
    "    @param head: The first node of linked list\n",
    "    @param x: An integer\n",
    "    @return: A ListNode\n",
    "    \"\"\"\n",
    "    def partition(self, head, x):\n",
    "        # write your code here\n",
    "        if head is None:\n",
    "            return head\n",
    "        aHead, bHead = ListNode(0), ListNode(0)\n",
    "        aTail, bTail = aHead, bHead\n",
    "        while head is not None:\n",
    "            if head.val < x:\n",
    "                aTail.next = head\n",
    "                aTail = aTail.next\n",
    "            else:\n",
    "                bTail.next = head\n",
    "                bTail = bTail.next\n",
    "            head = head.next\n",
    "        bTail.next = None\n",
    "        aTail.next = bHead.next\n",
    "        return aHead.next\n",
    "        \n",
    "        \n",
    "        \n"
   ]
  },
  {
   "cell_type": "code",
   "execution_count": null,
   "metadata": {},
   "outputs": [],
   "source": []
  }
 ],
 "metadata": {
  "kernelspec": {
   "display_name": "Python 3",
   "language": "python",
   "name": "python3"
  },
  "language_info": {
   "codemirror_mode": {
    "name": "ipython",
    "version": 3
   },
   "file_extension": ".py",
   "mimetype": "text/x-python",
   "name": "python",
   "nbconvert_exporter": "python",
   "pygments_lexer": "ipython3",
   "version": "3.6.8"
  }
 },
 "nbformat": 4,
 "nbformat_minor": 2
}
