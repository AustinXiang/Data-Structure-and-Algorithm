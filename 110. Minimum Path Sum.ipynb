{
 "cells": [
  {
   "cell_type": "code",
   "execution_count": 1,
   "metadata": {},
   "outputs": [],
   "source": [
    "class Solution:\n",
    "    \"\"\"\n",
    "    @param grid: a list of lists of integers\n",
    "    @return: An integer, minimizes the sum of all numbers along its path\n",
    "    \"\"\"\n",
    "    def minPathSum(self, grid):\n",
    "        # write your code here\n",
    "        # we can work on the grid matrix directly\n",
    "        if grid is None or len(grid) == 0:\n",
    "            return 0\n",
    "            \n",
    "        for i in range(len(grid)):\n",
    "            for j in range(len(grid[0])):\n",
    "                if i == 0 and j == 0:\n",
    "                    pass\n",
    "                elif i == 0:\n",
    "                    grid[i][j] = grid[i][j-1] + grid[i][j]\n",
    "                elif j == 0:\n",
    "                    grid[i][j] = grid[i-1][j] + grid[i][j]\n",
    "                else:\n",
    "                    grid[i][j] = min(grid[i-1][j], grid[i][j-1]) + grid[i][j]\n",
    "                    \n",
    "        return grid[-1][-1]\n"
   ]
  },
  {
   "cell_type": "code",
   "execution_count": null,
   "metadata": {},
   "outputs": [],
   "source": []
  }
 ],
 "metadata": {
  "kernelspec": {
   "display_name": "Python 3",
   "language": "python",
   "name": "python3"
  },
  "language_info": {
   "codemirror_mode": {
    "name": "ipython",
    "version": 3
   },
   "file_extension": ".py",
   "mimetype": "text/x-python",
   "name": "python",
   "nbconvert_exporter": "python",
   "pygments_lexer": "ipython3",
   "version": "3.6.8"
  }
 },
 "nbformat": 4,
 "nbformat_minor": 2
}
