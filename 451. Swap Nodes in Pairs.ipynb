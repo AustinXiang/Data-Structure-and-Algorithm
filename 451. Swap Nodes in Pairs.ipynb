{
 "cells": [
  {
   "cell_type": "code",
   "execution_count": 2,
   "metadata": {},
   "outputs": [],
   "source": [
    "\"\"\"\n",
    "Definition of ListNode\n",
    "class ListNode(object):\n",
    "    def __init__(self, val, next=None):\n",
    "        self.val = val\n",
    "        self.next = next\n",
    "\"\"\"\n",
    "\n",
    "class Solution:\n",
    "    \"\"\"\n",
    "    @param head: a ListNode\n",
    "    @return: a ListNode\n",
    "    \"\"\"\n",
    "    def swapPairs(self, head):\n",
    "        # write your code here\n",
    "        if head is None or head.next is None:\n",
    "            return head\n",
    "            \n",
    "        dummy_node = ListNode(0)\n",
    "        \n",
    "        dummy_node.next = head\n",
    "        pointer = dummy_node\n",
    "        \n",
    "        while pointer.next is not None and pointer.next.next is not None:\n",
    "            first = pointer.next\n",
    "            second = first.next\n",
    "            third = second.next\n",
    "            \n",
    "            pointer.next = second\n",
    "            second.next = first\n",
    "            first.next = third\n",
    "            \n",
    "            pointer = pointer.next.next\n",
    "            \n",
    "        return dummy_node.next\n",
    "        \n",
    "        \n"
   ]
  },
  {
   "cell_type": "code",
   "execution_count": null,
   "metadata": {},
   "outputs": [],
   "source": []
  }
 ],
 "metadata": {
  "kernelspec": {
   "display_name": "Python 3",
   "language": "python",
   "name": "python3"
  },
  "language_info": {
   "codemirror_mode": {
    "name": "ipython",
    "version": 3
   },
   "file_extension": ".py",
   "mimetype": "text/x-python",
   "name": "python",
   "nbconvert_exporter": "python",
   "pygments_lexer": "ipython3",
   "version": "3.6.8"
  }
 },
 "nbformat": 4,
 "nbformat_minor": 2
}
