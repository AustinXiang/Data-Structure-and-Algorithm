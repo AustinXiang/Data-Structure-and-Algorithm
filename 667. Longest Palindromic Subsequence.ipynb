{
 "cells": [
  {
   "cell_type": "code",
   "execution_count": 2,
   "metadata": {},
   "outputs": [],
   "source": [
    "class Solution:\n",
    "    \"\"\"\n",
    "    @param s: the maximum length of s is 1000\n",
    "    @return: the longest palindromic subsequence's length\n",
    "    \"\"\"\n",
    "    def longestPalindromeSubseq(self, s):\n",
    "        # write your code here\n",
    "        if s is None or len(s) == 0:\n",
    "            return 0\n",
    "\n",
    "        matrix = [[0 for j in range(len(s))] for i in range(len(s))]\n",
    "        \n",
    "        for i in range(len(s)):\n",
    "            matrix[i][i] = 1\n",
    "            for j in range(i-1, -1, -1):\n",
    "                if s[j] == s[i]:\n",
    "                    matrix[j][i] = matrix[j+1][i-1] + 2\n",
    "                else:\n",
    "                    matrix[j][i] = max(matrix[j+1][i], matrix[j][i-1])\n",
    "        \n",
    "        print(matrix)\n",
    "                    \n",
    "        return matrix[0][len(s)-1]\n",
    "                    \n",
    "                "
   ]
  },
  {
   "cell_type": "code",
   "execution_count": null,
   "metadata": {},
   "outputs": [],
   "source": []
  }
 ],
 "metadata": {
  "kernelspec": {
   "display_name": "Python 3",
   "language": "python",
   "name": "python3"
  },
  "language_info": {
   "codemirror_mode": {
    "name": "ipython",
    "version": 3
   },
   "file_extension": ".py",
   "mimetype": "text/x-python",
   "name": "python",
   "nbconvert_exporter": "python",
   "pygments_lexer": "ipython3",
   "version": "3.6.8"
  }
 },
 "nbformat": 4,
 "nbformat_minor": 2
}
