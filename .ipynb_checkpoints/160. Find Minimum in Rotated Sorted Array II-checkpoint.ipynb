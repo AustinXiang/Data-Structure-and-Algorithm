{
 "cells": [
  {
   "cell_type": "code",
   "execution_count": 1,
   "metadata": {},
   "outputs": [],
   "source": [
    "class Solution:\n",
    "    \"\"\"\n",
    "    @param nums: a rotated sorted array\n",
    "    @return: the minimum number in the array\n",
    "    \"\"\"\n",
    "    def findMin(self, nums):\n",
    "        # write your code here\n",
    "        \n",
    "        if nums is None or len(nums) == 0:\n",
    "            return\n",
    "        \n",
    "        minimal_value = nums[0]\n",
    "        for item in nums:\n",
    "            if item < minimal_value:\n",
    "                minimal_value = item\n",
    "                \n",
    "        return minimal_value\n"
   ]
  },
  {
   "cell_type": "code",
   "execution_count": null,
   "metadata": {},
   "outputs": [],
   "source": []
  }
 ],
 "metadata": {
  "kernelspec": {
   "display_name": "Python 3",
   "language": "python",
   "name": "python3"
  },
  "language_info": {
   "codemirror_mode": {
    "name": "ipython",
    "version": 3
   },
   "file_extension": ".py",
   "mimetype": "text/x-python",
   "name": "python",
   "nbconvert_exporter": "python",
   "pygments_lexer": "ipython3",
   "version": "3.6.8"
  }
 },
 "nbformat": 4,
 "nbformat_minor": 2
}
