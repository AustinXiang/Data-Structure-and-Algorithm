{
 "cells": [
  {
   "cell_type": "code",
   "execution_count": 2,
   "metadata": {},
   "outputs": [],
   "source": [
    "\"\"\"\n",
    "Definition of ListNode\n",
    "class ListNode(object):\n",
    "    def __init__(self, val, next=None):\n",
    "        self.val = val\n",
    "        self.next = next\n",
    "\"\"\"\n",
    "\n",
    "class Solution:\n",
    "    \"\"\"\n",
    "    @param l1: the first list\n",
    "    @param l2: the second list\n",
    "    @return: the sum list of l1 and l2 \n",
    "    \"\"\"\n",
    "    def addLists(self, l1, l2):\n",
    "        # write your code here\n",
    "        if l1 is None:\n",
    "            return l2\n",
    "        \n",
    "        if l2 is None:\n",
    "            return l1\n",
    "            \n",
    "        dummy_node = ListNode(0)\n",
    "        current_node = dummy_node\n",
    "        \n",
    "        next_level = 0\n",
    "        \n",
    "        while l1 is not None and l2 is not None:\n",
    "            temp_sum = l1.val + l2.val + next_level\n",
    "            temp_sum, next_level = temp_sum % 10, temp_sum // 10\n",
    "            \n",
    "            # create new node\n",
    "            current_node.next = ListNode(temp_sum)\n",
    "            current_node = current_node.next\n",
    "            \n",
    "            l1 = l1.next\n",
    "            l2 = l2.next\n",
    "            \n",
    "        # now the next_level can be 1 or 0\n",
    "        while l1 is not None:\n",
    "            temp_sum = l1.val + next_level\n",
    "            temp_sum, next_level = temp_sum % 10, temp_sum // 10\n",
    "            current_node.next = ListNode(temp_sum)\n",
    "            current_node = current_node.next\n",
    "            l1 = l1.next\n",
    "            \n",
    "        while l2 is not None:\n",
    "            temp_sum = l2.val + next_level\n",
    "            temp_sum, next_level = temp_sum % 10, temp_sum // 10\n",
    "            current_node.next = ListNode(temp_sum)\n",
    "            current_node = current_node.next\n",
    "            l2 = l2.next\n",
    "            \n",
    "        if next_level != 0:\n",
    "            current_node.next = ListNode(1)\n",
    "            \n",
    "        return dummy_node.next\n",
    "            "
   ]
  },
  {
   "cell_type": "code",
   "execution_count": null,
   "metadata": {},
   "outputs": [],
   "source": []
  }
 ],
 "metadata": {
  "kernelspec": {
   "display_name": "Python 3",
   "language": "python",
   "name": "python3"
  },
  "language_info": {
   "codemirror_mode": {
    "name": "ipython",
    "version": 3
   },
   "file_extension": ".py",
   "mimetype": "text/x-python",
   "name": "python",
   "nbconvert_exporter": "python",
   "pygments_lexer": "ipython3",
   "version": "3.6.8"
  }
 },
 "nbformat": 4,
 "nbformat_minor": 2
}
