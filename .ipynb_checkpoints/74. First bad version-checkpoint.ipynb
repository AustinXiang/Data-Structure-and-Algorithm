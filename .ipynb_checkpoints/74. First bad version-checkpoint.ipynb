{
 "cells": [
  {
   "cell_type": "code",
   "execution_count": 1,
   "metadata": {},
   "outputs": [],
   "source": [
    "#class SVNRepo:\n",
    "#    @classmethod\n",
    "#    def isBadVersion(cls, id)\n",
    "#        # Run unit tests to check whether verison `id` is a bad version\n",
    "#        # return true if unit tests passed else false.\n",
    "# You can use \bSVNRepo.isBadVersion(10) to check whether version 10 is a \n",
    "# bad version.\n",
    "class Solution:\n",
    "    \"\"\"\n",
    "    @param n: An integer\n",
    "    @return: An integer which is the first bad version.\n",
    "    \"\"\"\n",
    "    def findFirstBadVersion(self, n):\n",
    "        # write your code here\n",
    "        start = 1\n",
    "        end = n\n",
    "        \n",
    "        while start + 1 < end:\n",
    "            middle = start + int((end-start)/2)\n",
    "            if SVNRepo.isBadVersion(middle) == False:\n",
    "                start = middle\n",
    "            else:\n",
    "                end = middle\n",
    "                \n",
    "        if SVNRepo.isBadVersion(start):\n",
    "            return start\n",
    "            \n",
    "        return end"
   ]
  },
  {
   "cell_type": "code",
   "execution_count": null,
   "metadata": {},
   "outputs": [],
   "source": []
  }
 ],
 "metadata": {
  "kernelspec": {
   "display_name": "Python 3",
   "language": "python",
   "name": "python3"
  },
  "language_info": {
   "codemirror_mode": {
    "name": "ipython",
    "version": 3
   },
   "file_extension": ".py",
   "mimetype": "text/x-python",
   "name": "python",
   "nbconvert_exporter": "python",
   "pygments_lexer": "ipython3",
   "version": "3.6.8"
  }
 },
 "nbformat": 4,
 "nbformat_minor": 2
}
