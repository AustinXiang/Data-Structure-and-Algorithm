{
 "cells": [
  {
   "cell_type": "code",
   "execution_count": 1,
   "metadata": {},
   "outputs": [],
   "source": [
    "class Solution:\n",
    "    \"\"\"\n",
    "    @param A: An integers array.\n",
    "    @return: return any of peek positions.\n",
    "    \"\"\"\n",
    "    def findPeak(self, A):\n",
    "        # write your code here\n",
    "        # we just need to find one peak value\n",
    "        if A is None or len(A) <= 2:\n",
    "            return\n",
    "        \n",
    "        start = 1\n",
    "        end = len(A) - 2\n",
    "        while start + 1 < end:\n",
    "            middle = start + int((end-start)/2)\n",
    "            if A[middle] > A[middle - 1] and A[middle] > A[middle + 1]:\n",
    "                return middle\n",
    "            if A[middle] < A[middle + 1]:\n",
    "                start = middle\n",
    "            else:\n",
    "                end = middle\n",
    "                \n",
    "        if A[start] > A[start-1] and A[start] > A[start+1]:\n",
    "            return start\n",
    "            \n",
    "        if A[end] > A[end-1] and A[end] > A[end+1]:\n",
    "            return end\n",
    "            \n",
    "        return\n",
    "                \n",
    "        "
   ]
  },
  {
   "cell_type": "code",
   "execution_count": null,
   "metadata": {},
   "outputs": [],
   "source": []
  }
 ],
 "metadata": {
  "kernelspec": {
   "display_name": "Python 3",
   "language": "python",
   "name": "python3"
  },
  "language_info": {
   "codemirror_mode": {
    "name": "ipython",
    "version": 3
   },
   "file_extension": ".py",
   "mimetype": "text/x-python",
   "name": "python",
   "nbconvert_exporter": "python",
   "pygments_lexer": "ipython3",
   "version": "3.6.8"
  }
 },
 "nbformat": 4,
 "nbformat_minor": 2
}
