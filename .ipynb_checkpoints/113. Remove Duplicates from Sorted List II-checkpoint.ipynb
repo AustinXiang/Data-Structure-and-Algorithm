{
 "cells": [
  {
   "cell_type": "code",
   "execution_count": 1,
   "metadata": {},
   "outputs": [],
   "source": [
    "\"\"\"\n",
    "Definition of ListNode\n",
    "class ListNode(object):\n",
    "    def __init__(self, val, next=None):\n",
    "        self.val = val\n",
    "        self.next = next\n",
    "\"\"\"\n",
    "\n",
    "class Solution:  \n",
    "    # @param head, a ListNode  \n",
    "    # @return a ListNode  \n",
    "    def deleteDuplicates(self, head):  \n",
    "        if None == head or None == head.next:  \n",
    "            return head  \n",
    "  \n",
    "        new_head = ListNode(-1)  \n",
    "        new_head.next = head  \n",
    "        parent = new_head  \n",
    "        cur = head  \n",
    "        while None != cur and None != cur.next:   ### check cur.next None  \n",
    "            if cur.val == cur.next.val:  \n",
    "                val = cur.val  \n",
    "                while None != cur and val == cur.val: ### check cur None  \n",
    "                    cur = cur.next  \n",
    "                parent.next = cur  \n",
    "            else:  \n",
    "                cur = cur.next  \n",
    "                parent = parent.next  \n",
    "  \n",
    "        return new_head.next \n"
   ]
  },
  {
   "cell_type": "code",
   "execution_count": null,
   "metadata": {},
   "outputs": [],
   "source": []
  }
 ],
 "metadata": {
  "kernelspec": {
   "display_name": "Python 3",
   "language": "python",
   "name": "python3"
  },
  "language_info": {
   "codemirror_mode": {
    "name": "ipython",
    "version": 3
   },
   "file_extension": ".py",
   "mimetype": "text/x-python",
   "name": "python",
   "nbconvert_exporter": "python",
   "pygments_lexer": "ipython3",
   "version": "3.6.8"
  }
 },
 "nbformat": 4,
 "nbformat_minor": 2
}
