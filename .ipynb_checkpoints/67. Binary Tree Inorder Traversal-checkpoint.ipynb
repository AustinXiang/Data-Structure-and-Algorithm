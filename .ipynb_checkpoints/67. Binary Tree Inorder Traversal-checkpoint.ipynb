{
 "cells": [
  {
   "cell_type": "code",
   "execution_count": 1,
   "metadata": {},
   "outputs": [],
   "source": [
    "\"\"\"\n",
    "Definition of TreeNode:\n",
    "class TreeNode:\n",
    "    def __init__(self, val):\n",
    "        self.val = val\n",
    "        self.left, self.right = None, None\n",
    "\"\"\"\n",
    "\n",
    "class Solution:\n",
    "    \"\"\"\n",
    "    @param root: A Tree\n",
    "    @return: Inorder in ArrayList which contains node values.\n",
    "    \"\"\"\n",
    "    def inorderTraversal(self, root):\n",
    "        # write your code here\n",
    "        self.result = []\n",
    "        self.traverse(root)\n",
    "        return self.result\n",
    "        \n",
    "    def traverse(self, root):\n",
    "        if root is None:\n",
    "            return\n",
    "        self.traverse(root.left)\n",
    "        self.result.append(root.val)\n",
    "        self.traverse(root.right)\n"
   ]
  },
  {
   "cell_type": "code",
   "execution_count": null,
   "metadata": {},
   "outputs": [],
   "source": []
  }
 ],
 "metadata": {
  "kernelspec": {
   "display_name": "Python 3",
   "language": "python",
   "name": "python3"
  },
  "language_info": {
   "codemirror_mode": {
    "name": "ipython",
    "version": 3
   },
   "file_extension": ".py",
   "mimetype": "text/x-python",
   "name": "python",
   "nbconvert_exporter": "python",
   "pygments_lexer": "ipython3",
   "version": "3.6.8"
  }
 },
 "nbformat": 4,
 "nbformat_minor": 2
}
