{
 "cells": [
  {
   "cell_type": "code",
   "execution_count": 1,
   "metadata": {},
   "outputs": [],
   "source": [
    "\"\"\"\n",
    "Definition of TreeNode:\n",
    "class TreeNode:\n",
    "    def __init__(self, val):\n",
    "        this.val = val\n",
    "        this.left, this.right = None, None\n",
    "Definition for singly-linked list.\n",
    "class ListNode:\n",
    "    def __init__(self, x):\n",
    "        self.val = x\n",
    "        self.next = None\n",
    "\"\"\"\n",
    "class Solution:\n",
    "    # @param {TreeNode} root the root of binary tree\n",
    "    # @return {ListNode[]} a lists of linked list\n",
    "    def binaryTreeToLists(self, root):\n",
    "        # Write your code here\n",
    "        if root is None:\n",
    "            return []\n",
    "        \n",
    "\n",
    "            \n",
    "        result = []\n",
    "        queue = []\n",
    "        queue.append(root)\n",
    "        \n",
    "        while queue:\n",
    "            dummy_node = ListNode(0)\n",
    "            pointer = dummy_node\n",
    "            for i in range(0, len(queue)):\n",
    "                temp_node = queue.pop(0)\n",
    "                print(temp_node.val)\n",
    "                pointer.next = ListNode(temp_node.val)\n",
    "                pointer = pointer.next\n",
    "            \n",
    "                if temp_node.left:\n",
    "                    queue.append(temp_node.left)\n",
    "                    print(temp_node.left.val)\n",
    "                if temp_node.right:\n",
    "                    queue.append(temp_node.right)\n",
    "                    print(temp_node.right.val)\n",
    "                \n",
    "            result.append(dummy_node.next)\n",
    "            \n",
    "        return result"
   ]
  },
  {
   "cell_type": "code",
   "execution_count": null,
   "metadata": {},
   "outputs": [],
   "source": []
  }
 ],
 "metadata": {
  "kernelspec": {
   "display_name": "Python 3",
   "language": "python",
   "name": "python3"
  },
  "language_info": {
   "codemirror_mode": {
    "name": "ipython",
    "version": 3
   },
   "file_extension": ".py",
   "mimetype": "text/x-python",
   "name": "python",
   "nbconvert_exporter": "python",
   "pygments_lexer": "ipython3",
   "version": "3.6.8"
  }
 },
 "nbformat": 4,
 "nbformat_minor": 2
}
