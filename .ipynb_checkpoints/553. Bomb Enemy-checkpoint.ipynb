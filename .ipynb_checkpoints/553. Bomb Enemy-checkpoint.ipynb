{
 "cells": [
  {
   "cell_type": "code",
   "execution_count": 4,
   "metadata": {},
   "outputs": [],
   "source": [
    "class Solution:\n",
    "    \"\"\"\n",
    "    @param grid: Given a 2D grid, each cell is either 'W', 'E' or '0'\n",
    "    @return: an integer, the maximum enemies you can kill using one bomb\n",
    "    \"\"\"\n",
    "    def maxKilledEnemies(self, grid):\n",
    "        # write your code here\n",
    "        if grid is None or len(grid) == 0:\n",
    "            return 0\n",
    "        \n",
    "        m, n = len(grid), len(grid[0])\n",
    "        \n",
    "        up = [[0]*n for _ in range(m)]\n",
    "        down = [[0]*n for _ in range(m)]\n",
    "        left = [[0]*n for _ in range(m)]\n",
    "        right = [[0]*n for _ in range(m)]\n",
    "        \n",
    "        for i in range(m) : \n",
    "            for j in range(n) :\n",
    "                if grid[i][j] != 'W' :\n",
    "                    if grid[i][j] == 'E' :\n",
    "                        up[i][j] = 1\n",
    "                    if i > 0 :\n",
    "                        up[i][j] += up[i - 1][j]\n",
    "                        \n",
    "        for i in range(m - 1, -1, -1) :\n",
    "            for j in range(n) :\n",
    "                if grid[i][j] != 'W' :\n",
    "                    if grid[i][j] == 'E' :\n",
    "                        down[i][j] = 1\n",
    "                    if i + 1 < m :\n",
    "                        down[i][j] += down[i + 1][j]\n",
    "                        \n",
    "        for i in range(m) : \n",
    "            for j in range(n) :\n",
    "                if grid[i][j] != 'W' :\n",
    "                    if grid[i][j] == 'E' :\n",
    "                        left[i][j] = 1\n",
    "                    if j > 0 :\n",
    "                        left[i][j] += left[i][j - 1]\n",
    "                        \n",
    "        for i in range(m) : \n",
    "            for j in range(n - 1, -1, -1) :\n",
    "                if grid[i][j] != 'W' :\n",
    "                    if grid[i][j] == 'E' :\n",
    "                        right[i][j] = 1\n",
    "                    if j + 1 < n :\n",
    "                        right[i][j] += right[i][j + 1]\n",
    "                        \n",
    "        result = 0\n",
    "        for i in range(m):\n",
    "            for j in range(n) :\n",
    "                if grid[i][j] == '0' :\n",
    "                    result = max(result, up[i][j] + down[i][j] + left[i][j] + right[i][j])\n",
    "                    \n",
    "        return result\n"
   ]
  },
  {
   "cell_type": "code",
   "execution_count": null,
   "metadata": {},
   "outputs": [],
   "source": []
  }
 ],
 "metadata": {
  "kernelspec": {
   "display_name": "Python 3",
   "language": "python",
   "name": "python3"
  },
  "language_info": {
   "name": ""
  }
 },
 "nbformat": 4,
 "nbformat_minor": 2
}
