{
 "cells": [
  {
   "cell_type": "code",
   "execution_count": 2,
   "metadata": {},
   "outputs": [],
   "source": [
    "\"\"\"\n",
    "Definition of TreeNode:\n",
    "class TreeNode:\n",
    "    def __init__(self, val):\n",
    "        self.val = val\n",
    "        self.left, self.right = None, None\n",
    "\"\"\"\n",
    "\n",
    "class Solution:\n",
    "    \"\"\"\n",
    "    @param root: t\n",
    "    @return: the sum of all left leaves\n",
    "    \"\"\"\n",
    "    def sumOfLeftLeaves(self, root):\n",
    "        # Write your code here\n",
    "        if root is None:\n",
    "            return 0\n",
    "            \n",
    "        temp_sum = 0\n",
    "        \n",
    "        if root.left:\n",
    "            left_node = root.left\n",
    "            if left_node.left is None and left_node.right is None:\n",
    "                temp_sum = temp_sum + left_node.val\n",
    "            else:\n",
    "                temp_sum = temp_sum + self.sumOfLeftLeaves(left_node)\n",
    "                \n",
    "        if root.right:\n",
    "            temp_sum = temp_sum + self.sumOfLeftLeaves(root.right)\n",
    "            \n",
    "        return temp_sum\n"
   ]
  },
  {
   "cell_type": "code",
   "execution_count": null,
   "metadata": {},
   "outputs": [],
   "source": []
  }
 ],
 "metadata": {
  "kernelspec": {
   "display_name": "Python 3",
   "language": "python",
   "name": "python3"
  },
  "language_info": {
   "codemirror_mode": {
    "name": "ipython",
    "version": 3
   },
   "file_extension": ".py",
   "mimetype": "text/x-python",
   "name": "python",
   "nbconvert_exporter": "python",
   "pygments_lexer": "ipython3",
   "version": "3.6.8"
  }
 },
 "nbformat": 4,
 "nbformat_minor": 2
}
