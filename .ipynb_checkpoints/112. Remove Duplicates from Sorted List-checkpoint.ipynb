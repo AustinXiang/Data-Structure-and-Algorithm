{
 "cells": [
  {
   "cell_type": "code",
   "execution_count": 2,
   "metadata": {},
   "outputs": [],
   "source": [
    "\"\"\"\n",
    "Definition of ListNode\n",
    "class ListNode(object):\n",
    "    def __init__(self, val, next=None):\n",
    "        self.val = val\n",
    "        self.next = next\n",
    "\"\"\"\n",
    "\n",
    "class Solution:\n",
    "    \"\"\"\n",
    "    @param head: head is the head of the linked list\n",
    "    @return: head of linked list\n",
    "    \"\"\"\n",
    "    def deleteDuplicates(self, head):\n",
    "        # write your code here\n",
    "        if head is None or head.next is None:\n",
    "            return head\n",
    "        \n",
    "        dummy = ListNode(0)\n",
    "        dummy.next = head\n",
    "        parent = dummy\n",
    "        current = head\n",
    "        \n",
    "        while current is not None and current.next is not None:\n",
    "            if current.val == current.next.val:\n",
    "                while current.next is not None and current.next.val == current.val:\n",
    "                    current.next = current.next.next\n",
    "                current = current.next\n",
    "            else:\n",
    "                current = current.next\n",
    "                \n",
    "        return parent.next"
   ]
  },
  {
   "cell_type": "code",
   "execution_count": null,
   "metadata": {},
   "outputs": [],
   "source": []
  }
 ],
 "metadata": {
  "kernelspec": {
   "display_name": "Python 3",
   "language": "python",
   "name": "python3"
  },
  "language_info": {
   "codemirror_mode": {
    "name": "ipython",
    "version": 3
   },
   "file_extension": ".py",
   "mimetype": "text/x-python",
   "name": "python",
   "nbconvert_exporter": "python",
   "pygments_lexer": "ipython3",
   "version": "3.6.8"
  }
 },
 "nbformat": 4,
 "nbformat_minor": 2
}
