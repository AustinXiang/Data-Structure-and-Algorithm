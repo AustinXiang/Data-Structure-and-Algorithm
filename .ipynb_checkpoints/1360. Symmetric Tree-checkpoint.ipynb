{
 "cells": [
  {
   "cell_type": "code",
   "execution_count": 1,
   "metadata": {},
   "outputs": [],
   "source": [
    "\"\"\"\n",
    "Definition of TreeNode:\n",
    "class TreeNode:\n",
    "    def __init__(self, val):\n",
    "        self.val = val\n",
    "        self.left, self.right = None, None\n",
    "\"\"\"\n",
    "\n",
    "class Solution:\n",
    "    \"\"\"\n",
    "    @param root: root of the given tree\n",
    "    @return: whether it is a mirror of itself \n",
    "    \"\"\"\n",
    "    def isSymmetric(self, root):\n",
    "        # Write your code here\n",
    "        if root is None:\n",
    "            return True\n",
    "        return self.compare(root.left, root.right)\n",
    "        \n",
    "        \n",
    "    def compare(self, s, t):\n",
    "        if s is None and t is None:\n",
    "            return True\n",
    "        if s is None and t is not None:\n",
    "            return False\n",
    "        if s is not None and t is None:\n",
    "            return False\n",
    "        if s is not None and t is not None:\n",
    "            return s.val == t.val and self.compare(s.left, t.right) and self.compare(s.right, t.left)\n"
   ]
  },
  {
   "cell_type": "code",
   "execution_count": null,
   "metadata": {},
   "outputs": [],
   "source": []
  }
 ],
 "metadata": {
  "kernelspec": {
   "display_name": "Python 3",
   "language": "python",
   "name": "python3"
  },
  "language_info": {
   "codemirror_mode": {
    "name": "ipython",
    "version": 3
   },
   "file_extension": ".py",
   "mimetype": "text/x-python",
   "name": "python",
   "nbconvert_exporter": "python",
   "pygments_lexer": "ipython3",
   "version": "3.6.8"
  }
 },
 "nbformat": 4,
 "nbformat_minor": 2
}
