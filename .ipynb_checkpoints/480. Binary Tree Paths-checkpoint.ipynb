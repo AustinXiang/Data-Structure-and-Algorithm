{
 "cells": [
  {
   "cell_type": "code",
   "execution_count": 1,
   "metadata": {},
   "outputs": [],
   "source": [
    "\"\"\"\n",
    "Definition of TreeNode:\n",
    "class TreeNode:\n",
    "    def __init__(self, val):\n",
    "        self.val = val\n",
    "        self.left, self.right = None, None\n",
    "\"\"\"\n",
    "\n",
    "class Solution:\n",
    "    \"\"\"\n",
    "    @param root: the root of the binary tree\n",
    "    @return: all root-to-leaf paths\n",
    "    \"\"\"\n",
    "    def binaryTreePaths(self, root):\n",
    "        # write your code here\n",
    "        if root is None:\n",
    "            return []\n",
    "            \n",
    "        if root.left is None and root.right is None:\n",
    "            return [str(root.val)]\n",
    "            \n",
    "        paths = []\n",
    "        for path in self.binaryTreePaths(root.left):\n",
    "            paths.append(str(root.val) + \"->\" + path)\n",
    "        for path in self.binaryTreePaths(root.right):\n",
    "            paths.append(str(root.val) + \"->\" + path)\n",
    "            \n",
    "        return paths\n"
   ]
  },
  {
   "cell_type": "code",
   "execution_count": null,
   "metadata": {},
   "outputs": [],
   "source": []
  }
 ],
 "metadata": {
  "kernelspec": {
   "display_name": "Python 3",
   "language": "python",
   "name": "python3"
  },
  "language_info": {
   "codemirror_mode": {
    "name": "ipython",
    "version": 3
   },
   "file_extension": ".py",
   "mimetype": "text/x-python",
   "name": "python",
   "nbconvert_exporter": "python",
   "pygments_lexer": "ipython3",
   "version": "3.6.8"
  }
 },
 "nbformat": 4,
 "nbformat_minor": 2
}
