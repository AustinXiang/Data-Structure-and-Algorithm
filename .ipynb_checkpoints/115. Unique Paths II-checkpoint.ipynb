{
 "cells": [
  {
   "cell_type": "code",
   "execution_count": 2,
   "metadata": {},
   "outputs": [],
   "source": [
    "class Solution:\n",
    "    \"\"\"\n",
    "    @param obstacleGrid: A list of lists of integers\n",
    "    @return: An integer\n",
    "    \"\"\"\n",
    "    def uniquePathsWithObstacles(self, obstacleGrid):\n",
    "        mp = obstacleGrid\n",
    "        for i in range(len(mp)):\n",
    "            for j in range(len(mp[i])):\n",
    "                if i == 0 and j == 0:\n",
    "                    mp[i][j] = 1 - mp[i][j]\n",
    "                elif i == 0:\n",
    "                    if mp[i][j] == 1:\n",
    "                        mp[i][j] = 0\n",
    "                    else:\n",
    "                        mp[i][j] = mp[i][j - 1]\n",
    "                elif j == 0:\n",
    "                    if mp[i][j] == 1:\n",
    "                        mp[i][j] = 0\n",
    "                    else:\n",
    "                        mp[i][j] = mp[i - 1][j]\n",
    "                else:\n",
    "                    if mp[i][j] == 1:\n",
    "                        mp[i][j] = 0\n",
    "                    else:\n",
    "                        mp[i][j] = mp[i - 1][j] + mp[i][j - 1]\n",
    "                        \n",
    "        return mp[-1][-1]\n"
   ]
  },
  {
   "cell_type": "code",
   "execution_count": null,
   "metadata": {},
   "outputs": [],
   "source": []
  }
 ],
 "metadata": {
  "kernelspec": {
   "display_name": "Python 3",
   "language": "python",
   "name": "python3"
  },
  "language_info": {
   "codemirror_mode": {
    "name": "ipython",
    "version": 3
   },
   "file_extension": ".py",
   "mimetype": "text/x-python",
   "name": "python",
   "nbconvert_exporter": "python",
   "pygments_lexer": "ipython3",
   "version": "3.6.8"
  }
 },
 "nbformat": 4,
 "nbformat_minor": 2
}
