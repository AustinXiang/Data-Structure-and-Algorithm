{
 "cells": [
  {
   "cell_type": "code",
   "execution_count": 1,
   "metadata": {},
   "outputs": [],
   "source": [
    "class Solution:\n",
    "    \"\"\"\n",
    "    @param numbers: An array of Integer\n",
    "    @param target: target = numbers[index1] + numbers[index2]\n",
    "    @return: [index1, index2] (index1 < index2)\n",
    "    \"\"\"\n",
    "    def twoSum(self, numbers, target):\n",
    "        # write your code here\n",
    "        temp_Set = set()\n",
    "        for i in range(0, len(numbers)):\n",
    "            if target - numbers[i] not in temp_Set:\n",
    "                temp_Set.add(numbers[i])\n",
    "            else:\n",
    "                for j in range(0, i):\n",
    "                    if numbers[j] == target - numbers[i]:\n",
    "                        return [j,i]\n",
    "                        \n",
    "        return -1"
   ]
  },
  {
   "cell_type": "code",
   "execution_count": 4,
   "metadata": {},
   "outputs": [],
   "source": [
    "# It is not the most efficent solution. The time complexity and space complexity are both O(N)"
   ]
  },
  {
   "cell_type": "code",
   "execution_count": null,
   "metadata": {},
   "outputs": [],
   "source": []
  }
 ],
 "metadata": {
  "kernelspec": {
   "display_name": "Python 3",
   "language": "python",
   "name": "python3"
  },
  "language_info": {
   "codemirror_mode": {
    "name": "ipython",
    "version": 3
   },
   "file_extension": ".py",
   "mimetype": "text/x-python",
   "name": "python",
   "nbconvert_exporter": "python",
   "pygments_lexer": "ipython3",
   "version": "3.6.8"
  }
 },
 "nbformat": 4,
 "nbformat_minor": 2
}
