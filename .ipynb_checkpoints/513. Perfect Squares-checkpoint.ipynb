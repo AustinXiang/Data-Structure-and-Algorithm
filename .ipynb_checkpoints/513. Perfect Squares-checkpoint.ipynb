{
 "cells": [
  {
   "cell_type": "code",
   "execution_count": 4,
   "metadata": {},
   "outputs": [],
   "source": [
    "class Solution:\n",
    "    \"\"\"\n",
    "    @param n: a positive integer\n",
    "    @return: An integer\n",
    "    \"\"\"\n",
    "    def numSquares(self, n):\n",
    "        dp = [n for _ in range(n+1)]\n",
    "        for i in range(n+1):\n",
    "            if i**2 <= n:\n",
    "                dp[i**2] = 1\n",
    "            j = 1\n",
    "            while j**2 < i:\n",
    "                dp[i] = min(dp[i], dp[i-j**2] + 1)\n",
    "                j +=1\n",
    "        return dp[n]\n",
    "            \n"
   ]
  },
  {
   "cell_type": "code",
   "execution_count": null,
   "metadata": {},
   "outputs": [],
   "source": []
  }
 ],
 "metadata": {
  "kernelspec": {
   "display_name": "Python 3",
   "language": "python",
   "name": "python3"
  },
  "language_info": {
   "codemirror_mode": {
    "name": "ipython",
    "version": 3
   },
   "file_extension": ".py",
   "mimetype": "text/x-python",
   "name": "python",
   "nbconvert_exporter": "python",
   "pygments_lexer": "ipython3",
   "version": "3.6.8"
  }
 },
 "nbformat": 4,
 "nbformat_minor": 2
}
