{
 "cells": [
  {
   "cell_type": "code",
   "execution_count": 1,
   "metadata": {},
   "outputs": [],
   "source": [
    "class Solution:\n",
    "    \"\"\"\n",
    "    @param prices: Given an integer array\n",
    "    @return: Maximum profit\n",
    "    \"\"\"\n",
    "    def maxProfit(self, prices):\n",
    "        # write your code here\n",
    "        if prices is None or len(prices) == 0:\n",
    "            return 0\n",
    "\n",
    "        result = 0\n",
    "        low = sys.maxsize\n",
    "        \n",
    "        for item in prices:\n",
    "            if item - low > result:\n",
    "                result = item - low\n",
    "            if item < low:\n",
    "                low = item\n",
    "                \n",
    "        return result"
   ]
  },
  {
   "cell_type": "code",
   "execution_count": null,
   "metadata": {},
   "outputs": [],
   "source": []
  }
 ],
 "metadata": {
  "kernelspec": {
   "display_name": "Python 3",
   "language": "python",
   "name": "python3"
  },
  "language_info": {
   "codemirror_mode": {
    "name": "ipython",
    "version": 3
   },
   "file_extension": ".py",
   "mimetype": "text/x-python",
   "name": "python",
   "nbconvert_exporter": "python",
   "pygments_lexer": "ipython3",
   "version": "3.6.8"
  }
 },
 "nbformat": 4,
 "nbformat_minor": 2
}
