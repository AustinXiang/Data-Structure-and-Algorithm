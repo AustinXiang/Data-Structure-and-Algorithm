{
 "cells": [
  {
   "cell_type": "code",
   "execution_count": 1,
   "metadata": {},
   "outputs": [],
   "source": [
    "class Solution:\n",
    "    \"\"\"\n",
    "    @param str: s string\n",
    "    @return: return an integer, denote the number of the palindromic substrings\n",
    "    \"\"\"\n",
    "    def countPalindromicSubstrings(self, str):\n",
    "        # write your code here\n",
    "        input_String = str\n",
    "        if input_String is None or len(input_String) == 0:\n",
    "            return 0\n",
    "            \n",
    "        matrix = [[0 for j in range(len(input_String))] for i in range(len(input_String))]\n",
    "        result  = 0\n",
    "        \n",
    "        for i in range(len(input_String)):\n",
    "            for j in range(i+1):\n",
    "                if input_String[j] == input_String[i] and (i-j <= 2 or matrix[j+1][i-1] == 1):\n",
    "                    matrix[j][i] = 1\n",
    "                    result += 1\n",
    "                    \n",
    "        return result\n",
    "        \n",
    "        \n"
   ]
  },
  {
   "cell_type": "code",
   "execution_count": null,
   "metadata": {},
   "outputs": [],
   "source": []
  }
 ],
 "metadata": {
  "kernelspec": {
   "display_name": "Python 3",
   "language": "python",
   "name": "python3"
  },
  "language_info": {
   "codemirror_mode": {
    "name": "ipython",
    "version": 3
   },
   "file_extension": ".py",
   "mimetype": "text/x-python",
   "name": "python",
   "nbconvert_exporter": "python",
   "pygments_lexer": "ipython3",
   "version": "3.6.8"
  }
 },
 "nbformat": 4,
 "nbformat_minor": 2
}
