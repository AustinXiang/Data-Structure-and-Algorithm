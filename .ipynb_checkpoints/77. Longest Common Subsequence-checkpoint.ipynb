{
 "cells": [
  {
   "cell_type": "code",
   "execution_count": 2,
   "metadata": {},
   "outputs": [],
   "source": [
    "class Solution:\n",
    "    \"\"\"\n",
    "    @param A: A string\n",
    "    @param B: A string\n",
    "    @return: The length of longest common subsequence of A and B\n",
    "    \"\"\"\n",
    "    def longestCommonSubsequence(self, A, B):\n",
    "        n, m = len(A), len(B)\n",
    "        f = [[0] * (n + 1) for i in range(m + 1)]\n",
    "        for i in range(1, n + 1):\n",
    "            for j in range(1, m + 1):\n",
    "                f[i][j] = max(f[i][j - 1], f[i - 1][j])\n",
    "                if A[i - 1] == B[j - 1]:\n",
    "                    f[i][j] = max(f[i][j], f[i - 1][j - 1] + 1)\n",
    "        return f[n][m]"
   ]
  },
  {
   "cell_type": "code",
   "execution_count": null,
   "metadata": {},
   "outputs": [],
   "source": []
  }
 ],
 "metadata": {
  "kernelspec": {
   "display_name": "Python 3",
   "language": "python",
   "name": "python3"
  },
  "language_info": {
   "codemirror_mode": {
    "name": "ipython",
    "version": 3
   },
   "file_extension": ".py",
   "mimetype": "text/x-python",
   "name": "python",
   "nbconvert_exporter": "python",
   "pygments_lexer": "ipython3",
   "version": "3.6.8"
  }
 },
 "nbformat": 4,
 "nbformat_minor": 2
}
