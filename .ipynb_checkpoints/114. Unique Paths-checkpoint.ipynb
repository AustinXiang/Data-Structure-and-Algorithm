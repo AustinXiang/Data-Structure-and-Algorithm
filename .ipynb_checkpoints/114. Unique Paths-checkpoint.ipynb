{
 "cells": [
  {
   "cell_type": "code",
   "execution_count": 2,
   "metadata": {},
   "outputs": [],
   "source": [
    "class Solution:\n",
    "    \"\"\"\n",
    "    @param m: positive integer (1 <= m <= 100)\n",
    "    @param n: positive integer (1 <= n <= 100)\n",
    "    @return: An integer\n",
    "    \"\"\"\n",
    "    def uniquePaths(self, m, n):\n",
    "        # write your code here\n",
    "        result = {}\n",
    "        \n",
    "        for i in range(m):\n",
    "            for j in range(n):\n",
    "                if i == 0 or j == 0:\n",
    "                    result[(i,j)] = 1\n",
    "                else:\n",
    "                    result[(i,j)] = result[(i-1,j)] + result[(i,j-1)]\n",
    "                    \n",
    "        return result[(m-1,n-1)]"
   ]
  },
  {
   "cell_type": "code",
   "execution_count": null,
   "metadata": {},
   "outputs": [],
   "source": []
  }
 ],
 "metadata": {
  "kernelspec": {
   "display_name": "Python 3",
   "language": "python",
   "name": "python3"
  },
  "language_info": {
   "codemirror_mode": {
    "name": "ipython",
    "version": 3
   },
   "file_extension": ".py",
   "mimetype": "text/x-python",
   "name": "python",
   "nbconvert_exporter": "python",
   "pygments_lexer": "ipython3",
   "version": "3.6.8"
  }
 },
 "nbformat": 4,
 "nbformat_minor": 2
}
