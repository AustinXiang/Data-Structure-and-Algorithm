{
 "cells": [
  {
   "cell_type": "code",
   "execution_count": null,
   "metadata": {},
   "outputs": [],
   "source": [
    "\"\"\"\n",
    "Definition of ListNode\n",
    "class ListNode(object):\n",
    "    def __init__(self, val, next=None):\n",
    "        self.val = val\n",
    "        self.next = next\n",
    "\"\"\"\n",
    "\n",
    "class Solution:\n",
    "    \"\"\"\n",
    "    @param head: The head of linked list.\n",
    "    @param val: An integer.\n",
    "    @return: The head of new linked list.\n",
    "    \"\"\"\n",
    "    def insertNode(self, head, val):\n",
    "        # write your code here\n",
    "        \n",
    "        if head is None:\n",
    "            return ListNode(val)\n",
    "            \n",
    "        if val < head.val:\n",
    "            new_node = ListNode(val)\n",
    "            new_node.next = head\n",
    "            return new_node\n",
    "            \n",
    "        current_node = head\n",
    "        while current_node.val < val and current_node.next is not None and current_node.next.val < val:\n",
    "            current_node = current_node.next\n",
    "            \n",
    "        next_node = current_node.next\n",
    "        new_node = ListNode(val)\n",
    "        current_node.next = new_node\n",
    "        new_node.next = next_node\n",
    "        \n",
    "        return head"
   ]
  }
 ],
 "metadata": {
  "kernelspec": {
   "display_name": "Python 3",
   "language": "python",
   "name": "python3"
  },
  "language_info": {
   "codemirror_mode": {
    "name": "ipython",
    "version": 3
   },
   "file_extension": ".py",
   "mimetype": "text/x-python",
   "name": "python",
   "nbconvert_exporter": "python",
   "pygments_lexer": "ipython3",
   "version": "3.6.8"
  }
 },
 "nbformat": 4,
 "nbformat_minor": 2
}
