{
 "cells": [
  {
   "cell_type": "code",
   "execution_count": 1,
   "metadata": {},
   "outputs": [],
   "source": [
    "\"\"\"\n",
    "Definition of TreeNode:\n",
    "class TreeNode:\n",
    "    def __init__(self, val):\n",
    "        self.val = val\n",
    "        self.left, self.right = None, None\n",
    "\"\"\"\n",
    "\n",
    "\n",
    "class Solution:\n",
    "    \"\"\"\n",
    "    @param: A: an integer array\n",
    "    @return: A tree node\n",
    "    \"\"\"\n",
    "    def sortedArrayToBST(self, A):\n",
    "        # write your code here\n",
    "        if  A is None or len(A) == 0:\n",
    "            return None\n",
    "        \n",
    "        return self.convertion(A, 0, len(A)-1)\n",
    "            \n",
    "    def convertion(self, A, left_index, right_index):\n",
    "        if left_index > right_index:\n",
    "            return None\n",
    "        if left_index == right_index:\n",
    "            return TreeNode(A[left_index])\n",
    "            \n",
    "        mid_point = (right_index + left_index) // 2\n",
    "        root = TreeNode(A[mid_point])\n",
    "        root.left = self.convertion(A, left_index, mid_point-1)\n",
    "        root.right = self.convertion(A, mid_point+1, right_index)\n",
    "        return root\n",
    "        \n",
    "        "
   ]
  },
  {
   "cell_type": "code",
   "execution_count": null,
   "metadata": {},
   "outputs": [],
   "source": []
  }
 ],
 "metadata": {
  "kernelspec": {
   "display_name": "Python 3",
   "language": "python",
   "name": "python3"
  },
  "language_info": {
   "codemirror_mode": {
    "name": "ipython",
    "version": 3
   },
   "file_extension": ".py",
   "mimetype": "text/x-python",
   "name": "python",
   "nbconvert_exporter": "python",
   "pygments_lexer": "ipython3",
   "version": "3.6.8"
  }
 },
 "nbformat": 4,
 "nbformat_minor": 2
}
