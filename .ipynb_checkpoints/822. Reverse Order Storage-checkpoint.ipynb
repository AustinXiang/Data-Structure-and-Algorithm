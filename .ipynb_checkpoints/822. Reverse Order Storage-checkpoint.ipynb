{
 "cells": [
  {
   "cell_type": "code",
   "execution_count": 2,
   "metadata": {},
   "outputs": [],
   "source": [
    "\"\"\"\n",
    "Definition of ListNode\n",
    "class ListNode(object):\n",
    "    def __init__(self, val, next=None):\n",
    "        self.val = val\n",
    "        self.next = next\n",
    "\"\"\"\n",
    "\n",
    "class Solution:\n",
    "    \"\"\"\n",
    "    @param head: the given linked list\n",
    "    @return: the array that store the values in reverse order \n",
    "    \"\"\"\n",
    "    def reverseStore(self, head):\n",
    "        # write your code here\n",
    "        result = []\n",
    "        if head is None:\n",
    "            return result\n",
    "            \n",
    "        dummy_node = ListNode(0)\n",
    "            \n",
    "        while head is not None:\n",
    "            next_node = head.next\n",
    "            head.next = dummy_node.next\n",
    "            dummy_node.next = head\n",
    "            head = next_node\n",
    "            \n",
    "        while dummy_node.next is not None:\n",
    "            result.append(dummy_node.next.val)\n",
    "            dummy_node = dummy_node.next\n",
    "            \n",
    "        return result\n"
   ]
  },
  {
   "cell_type": "code",
   "execution_count": null,
   "metadata": {},
   "outputs": [],
   "source": []
  }
 ],
 "metadata": {
  "kernelspec": {
   "display_name": "Python 3",
   "language": "python",
   "name": "python3"
  },
  "language_info": {
   "codemirror_mode": {
    "name": "ipython",
    "version": 3
   },
   "file_extension": ".py",
   "mimetype": "text/x-python",
   "name": "python",
   "nbconvert_exporter": "python",
   "pygments_lexer": "ipython3",
   "version": "3.6.8"
  }
 },
 "nbformat": 4,
 "nbformat_minor": 2
}
