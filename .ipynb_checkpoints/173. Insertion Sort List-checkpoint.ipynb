{
 "cells": [
  {
   "cell_type": "code",
   "execution_count": 2,
   "metadata": {},
   "outputs": [],
   "source": [
    "\"\"\"\n",
    "Definition of ListNode\n",
    "class ListNode(object):\n",
    "    def __init__(self, val, next=None):\n",
    "        self.val = val\n",
    "        self.next = next\n",
    "\"\"\"\n",
    "\n",
    "class Solution:\n",
    "    \"\"\"\n",
    "    @param head: The first node of linked list.\n",
    "    @return: The head of linked list.\n",
    "    \"\"\"\n",
    "    def insertionSortList(self, head):\n",
    "        # write your code here\n",
    "        dummy_node = ListNode(0)\n",
    "        \n",
    "        while head:\n",
    "            temp_node = dummy_node\n",
    "            node_next = head.next\n",
    "            \n",
    "            while temp_node.next is not None and temp_node.next.val < head.val:\n",
    "                temp_node = temp_node.next\n",
    "            \n",
    "            head.next = temp_node.next\n",
    "            temp_node.next = head\n",
    "            head = node_next\n",
    "            \n",
    "        return dummy_node.next\n"
   ]
  },
  {
   "cell_type": "code",
   "execution_count": null,
   "metadata": {},
   "outputs": [],
   "source": []
  }
 ],
 "metadata": {
  "kernelspec": {
   "display_name": "Python 3",
   "language": "python",
   "name": "python3"
  },
  "language_info": {
   "codemirror_mode": {
    "name": "ipython",
    "version": 3
   },
   "file_extension": ".py",
   "mimetype": "text/x-python",
   "name": "python",
   "nbconvert_exporter": "python",
   "pygments_lexer": "ipython3",
   "version": "3.6.8"
  }
 },
 "nbformat": 4,
 "nbformat_minor": 2
}
