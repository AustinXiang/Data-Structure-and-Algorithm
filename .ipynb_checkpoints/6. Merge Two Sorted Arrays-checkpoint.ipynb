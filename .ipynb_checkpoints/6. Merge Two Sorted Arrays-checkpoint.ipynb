{
 "cells": [
  {
   "cell_type": "code",
   "execution_count": 7,
   "metadata": {},
   "outputs": [],
   "source": [
    "class Solution:\n",
    "    \"\"\"\n",
    "    @param A: sorted integer array A\n",
    "    @param B: sorted integer array B\n",
    "    @return: A new sorted integer array\n",
    "    \"\"\"\n",
    "    def mergeSortedArray(self, A, B):\n",
    "        # write your code here\n",
    "        result_array = []\n",
    "        i, j = 0, 0\n",
    "        while i < len(A) and j < len(B):\n",
    "            if A[i] <= B[j]:\n",
    "                result_array.append(A[i])\n",
    "                i = i + 1\n",
    "            else:\n",
    "                result_array.append(B[j])\n",
    "                j = j + 1\n",
    "                \n",
    "        if i == len(A):\n",
    "            result_array = result_array + B[j:]\n",
    "        else:\n",
    "            result_array = result_array + A[i:]\n",
    "            \n",
    "        return result_array\n"
   ]
  },
  {
   "cell_type": "code",
   "execution_count": null,
   "metadata": {},
   "outputs": [],
   "source": [
    "# Passed all online test case"
   ]
  }
 ],
 "metadata": {
  "kernelspec": {
   "display_name": "Python 3",
   "language": "python",
   "name": "python3"
  },
  "language_info": {
   "codemirror_mode": {
    "name": "ipython",
    "version": 3
   },
   "file_extension": ".py",
   "mimetype": "text/x-python",
   "name": "python",
   "nbconvert_exporter": "python",
   "pygments_lexer": "ipython3",
   "version": "3.6.8"
  }
 },
 "nbformat": 4,
 "nbformat_minor": 2
}
