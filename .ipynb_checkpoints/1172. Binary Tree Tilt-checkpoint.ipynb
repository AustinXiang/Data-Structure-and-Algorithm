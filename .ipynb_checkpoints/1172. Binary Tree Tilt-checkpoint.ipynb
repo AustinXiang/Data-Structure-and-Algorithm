{
 "cells": [
  {
   "cell_type": "code",
   "execution_count": 2,
   "metadata": {},
   "outputs": [],
   "source": [
    "\"\"\"\n",
    "Definition of TreeNode:\n",
    "class TreeNode:\n",
    "    def __init__(self, val):\n",
    "        self.val = val\n",
    "        self.left, self.right = None, None\n",
    "\"\"\"\n",
    "\n",
    "class Solution:\n",
    "    \"\"\"\n",
    "    @param root: the root\n",
    "    @return: the tilt of the whole tree\n",
    "    \"\"\"\n",
    "    def findTilt(self, root):\n",
    "        # Write your code here\n",
    "        if root is None:\n",
    "            return 0\n",
    "        l_tilt = self.findTilt(root.left)\n",
    "        r_tilt = self.findTilt(root.right)\n",
    "        return l_tilt + r_tilt + abs(self.treeSum(root.left) - self.treeSum(root.right))\n",
    "            \n",
    "        \n",
    "    def treeSum(self, root):\n",
    "        if root is None:\n",
    "            return 0\n",
    "        l_sum = self.treeSum(root.left)\n",
    "        r_sum = self.treeSum(root.right)\n",
    "        return l_sum + r_sum + root.val\n"
   ]
  },
  {
   "cell_type": "code",
   "execution_count": null,
   "metadata": {},
   "outputs": [],
   "source": []
  }
 ],
 "metadata": {
  "kernelspec": {
   "display_name": "Python 3",
   "language": "python",
   "name": "python3"
  },
  "language_info": {
   "codemirror_mode": {
    "name": "ipython",
    "version": 3
   },
   "file_extension": ".py",
   "mimetype": "text/x-python",
   "name": "python",
   "nbconvert_exporter": "python",
   "pygments_lexer": "ipython3",
   "version": "3.6.8"
  }
 },
 "nbformat": 4,
 "nbformat_minor": 2
}
