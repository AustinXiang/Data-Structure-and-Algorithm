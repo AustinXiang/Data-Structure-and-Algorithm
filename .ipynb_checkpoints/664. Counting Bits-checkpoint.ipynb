{
 "cells": [
  {
   "cell_type": "code",
   "execution_count": 2,
   "metadata": {},
   "outputs": [],
   "source": [
    "class Solution:\n",
    "    \"\"\"\n",
    "    @param num: a non negative integer number\n",
    "    @return: an array represent the number of 1's in their binary\n",
    "    \"\"\"\n",
    "    def countBits(self, num):\n",
    "        # write your code here\n",
    "        if num is None or num == 0:\n",
    "            return [0]\n",
    "        result = [0]\n",
    "        for i in range(1, num + 1):\n",
    "            result.append(result[i>>1] + i % 2)\n",
    "        return result\n",
    "        \n"
   ]
  },
  {
   "cell_type": "code",
   "execution_count": null,
   "metadata": {},
   "outputs": [],
   "source": []
  }
 ],
 "metadata": {
  "kernelspec": {
   "display_name": "Python 3",
   "language": "python",
   "name": "python3"
  },
  "language_info": {
   "codemirror_mode": {
    "name": "ipython",
    "version": 3
   },
   "file_extension": ".py",
   "mimetype": "text/x-python",
   "name": "python",
   "nbconvert_exporter": "python",
   "pygments_lexer": "ipython3",
   "version": "3.6.8"
  }
 },
 "nbformat": 4,
 "nbformat_minor": 2
}
