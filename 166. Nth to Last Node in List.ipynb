{
 "cells": [
  {
   "cell_type": "code",
   "execution_count": 2,
   "metadata": {},
   "outputs": [],
   "source": [
    "class Solution:\n",
    "    \"\"\"\n",
    "    @param: head: The first node of linked list.\n",
    "    @param: n: An integer\n",
    "    @return: Nth to last node of a singly linked list. \n",
    "    \"\"\"\n",
    "    def nthToLast(self, head, n):\n",
    "        # write your code here\n",
    "        if head is None or n < 1:\n",
    "            return None\n",
    "            \n",
    "        fast_node = head\n",
    "        slow_node = head\n",
    "        \n",
    "        for i in range(n):\n",
    "            if fast_node is None:\n",
    "                return None\n",
    "            fast_node = fast_node.next\n",
    "            \n",
    "        while fast_node is not None:\n",
    "            fast_node = fast_node.next\n",
    "            slow_node = slow_node.next\n",
    "        \n",
    "        return slow_node.val"
   ]
  },
  {
   "cell_type": "code",
   "execution_count": null,
   "metadata": {},
   "outputs": [],
   "source": []
  }
 ],
 "metadata": {
  "kernelspec": {
   "display_name": "Python 3",
   "language": "python",
   "name": "python3"
  },
  "language_info": {
   "codemirror_mode": {
    "name": "ipython",
    "version": 3
   },
   "file_extension": ".py",
   "mimetype": "text/x-python",
   "name": "python",
   "nbconvert_exporter": "python",
   "pygments_lexer": "ipython3",
   "version": "3.6.8"
  }
 },
 "nbformat": 4,
 "nbformat_minor": 2
}
