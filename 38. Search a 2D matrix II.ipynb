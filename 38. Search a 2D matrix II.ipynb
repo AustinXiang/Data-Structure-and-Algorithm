{
 "cells": [
  {
   "cell_type": "code",
   "execution_count": 1,
   "metadata": {},
   "outputs": [],
   "source": [
    "class Solution:\n",
    "    \"\"\"\n",
    "    @param matrix: A list of lists of integers\n",
    "    @param target: An integer you want to search in matrix\n",
    "    @return: An integer indicate the total occurrence of target in the given matrix\n",
    "    \"\"\"\n",
    "    def searchMatrix(self, matrix, target):\n",
    "        # write your code here\n",
    "        if matrix is None or len(matrix) == 0:\n",
    "            return 0\n",
    "            \n",
    "        x = len(matrix) - 1\n",
    "        y = 0\n",
    "        count = 0\n",
    "        \n",
    "        while x >= 0 and y <= len(matrix[0]) - 1:\n",
    "            value = matrix[x][y]\n",
    "            if value == target:\n",
    "                count = count + 1\n",
    "                x = x - 1\n",
    "            elif value < target:\n",
    "                y += 1\n",
    "            else:\n",
    "                x -= 1\n",
    "                \n",
    "        return count"
   ]
  },
  {
   "cell_type": "code",
   "execution_count": null,
   "metadata": {},
   "outputs": [],
   "source": []
  }
 ],
 "metadata": {
  "kernelspec": {
   "display_name": "Python 3",
   "language": "python",
   "name": "python3"
  },
  "language_info": {
   "codemirror_mode": {
    "name": "ipython",
    "version": 3
   },
   "file_extension": ".py",
   "mimetype": "text/x-python",
   "name": "python",
   "nbconvert_exporter": "python",
   "pygments_lexer": "ipython3",
   "version": "3.6.8"
  }
 },
 "nbformat": 4,
 "nbformat_minor": 2
}
