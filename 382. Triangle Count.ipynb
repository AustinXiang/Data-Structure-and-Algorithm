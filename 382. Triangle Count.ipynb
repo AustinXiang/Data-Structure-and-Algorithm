{
 "cells": [
  {
   "cell_type": "code",
   "execution_count": 1,
   "metadata": {},
   "outputs": [],
   "source": [
    "class Solution:\n",
    "    \"\"\"\n",
    "    @param S: A list of integers\n",
    "    @return: An integer\n",
    "    \"\"\"\n",
    "    def triangleCount(self, S):\n",
    "        # write your code here\n",
    "        S.sort()\n",
    "        result = 0\n",
    "        for i in range(0, len(S)):\n",
    "            result = result + self.two_sum_pair(S[0:i], S[i])\n",
    "        return result\n",
    "        \n",
    "    def two_sum_pair(self, S, target):\n",
    "        result = 0\n",
    "        start = 0\n",
    "        end = len(S) - 1\n",
    "        while start < end:\n",
    "            if S[start] + S[end] > target:\n",
    "                result = result + end - start\n",
    "                end = end - 1\n",
    "            else:\n",
    "                start = start + 1\n",
    "                \n",
    "        return result\n",
    "        \n",
    "        \n"
   ]
  },
  {
   "cell_type": "code",
   "execution_count": null,
   "metadata": {},
   "outputs": [],
   "source": []
  }
 ],
 "metadata": {
  "kernelspec": {
   "display_name": "Python 3",
   "language": "python",
   "name": "python3"
  },
  "language_info": {
   "codemirror_mode": {
    "name": "ipython",
    "version": 3
   },
   "file_extension": ".py",
   "mimetype": "text/x-python",
   "name": "python",
   "nbconvert_exporter": "python",
   "pygments_lexer": "ipython3",
   "version": "3.6.8"
  }
 },
 "nbformat": 4,
 "nbformat_minor": 2
}
