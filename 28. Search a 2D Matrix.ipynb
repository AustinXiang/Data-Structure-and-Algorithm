{
 "cells": [
  {
   "cell_type": "code",
   "execution_count": 1,
   "metadata": {},
   "outputs": [],
   "source": [
    "class Solution:\n",
    "    \"\"\"\n",
    "    @param matrix: matrix, a list of lists of integers\n",
    "    @param target: An integer\n",
    "    @return: a boolean, indicate whether matrix contains target\n",
    "    \"\"\"\n",
    "    def searchMatrix(self, matrix, target):\n",
    "        # write your code here\n",
    "        if matrix is None or len(matrix) == 0:\n",
    "            return False\n",
    "        \n",
    "        start = 0\n",
    "        end = len(matrix) * len(matrix[0]) - 1\n",
    "\n",
    "        while start + 1 < end:\n",
    "            middle = start + int((end-start)/2)\n",
    "            middle_value = matrix[middle//len(matrix[0])][middle % len(matrix[0])]\n",
    "            if middle_value == target:\n",
    "                return True\n",
    "            elif middle_value < target:\n",
    "                start = middle\n",
    "            else:\n",
    "                end = middle\n",
    "                \n",
    "        # now we check the start and end\n",
    "        if matrix[start//len(matrix)][start % len(matrix)] == target:\n",
    "            return True\n",
    "        if matrix[end//len(matrix)][end % len(matrix)] == target:\n",
    "            return True      \n",
    "            \n",
    "        return False"
   ]
  },
  {
   "cell_type": "code",
   "execution_count": null,
   "metadata": {},
   "outputs": [],
   "source": []
  }
 ],
 "metadata": {
  "kernelspec": {
   "display_name": "Python 3",
   "language": "python",
   "name": "python3"
  },
  "language_info": {
   "codemirror_mode": {
    "name": "ipython",
    "version": 3
   },
   "file_extension": ".py",
   "mimetype": "text/x-python",
   "name": "python",
   "nbconvert_exporter": "python",
   "pygments_lexer": "ipython3",
   "version": "3.6.8"
  }
 },
 "nbformat": 4,
 "nbformat_minor": 2
}
