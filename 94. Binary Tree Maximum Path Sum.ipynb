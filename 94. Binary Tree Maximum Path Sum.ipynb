{
 "cells": [
  {
   "cell_type": "code",
   "execution_count": null,
   "metadata": {},
   "outputs": [],
   "source": [
    "class Solution:\n",
    "    \"\"\"\n",
    "    @param root: The root of binary tree.\n",
    "    @return: An integer\n",
    "    \"\"\"\n",
    "    def maxPathSum(self, root):\n",
    "        # write your code here\n",
    "        if root is None:\n",
    "            return -sys.maxint\n",
    "            \n",
    "        return max(self.maxPathSum(root.left), self.maxPathSum(root.right), self.single_path(root.left) + root.val + self.single_path(root.right))\n",
    "        \n",
    "\n",
    "    def single_path(self, root):\n",
    "        if root is None:\n",
    "            return 0\n",
    "            \n",
    "        return max(max(self.single_path(root.left), self.single_path(root.right)) + root.val, 0)"
   ]
  }
 ],
 "metadata": {
  "kernelspec": {
   "display_name": "Python 3",
   "language": "python",
   "name": "python3"
  },
  "language_info": {
   "codemirror_mode": {
    "name": "ipython",
    "version": 3
   },
   "file_extension": ".py",
   "mimetype": "text/x-python",
   "name": "python",
   "nbconvert_exporter": "python",
   "pygments_lexer": "ipython3",
   "version": "3.6.8"
  }
 },
 "nbformat": 4,
 "nbformat_minor": 2
}
