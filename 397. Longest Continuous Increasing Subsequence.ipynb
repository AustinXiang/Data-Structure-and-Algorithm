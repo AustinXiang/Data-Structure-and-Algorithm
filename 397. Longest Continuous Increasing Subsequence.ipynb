{
 "cells": [
  {
   "cell_type": "code",
   "execution_count": 2,
   "metadata": {},
   "outputs": [],
   "source": [
    "class Solution:\n",
    "    \"\"\"\n",
    "    @param A: An array of Integer\n",
    "    @return: an integer\n",
    "    \"\"\"\n",
    "    def longestIncreasingContinuousSubsequence(self, A):\n",
    "        # write your code here\n",
    "        if A is None or len(A) == 0:\n",
    "            return 0\n",
    "            \n",
    "        longest, increase, decrease = 1, 1, 1\n",
    "        for i in range(1, len(A)):\n",
    "            if A[i] > A[i-1]:\n",
    "                increase += 1\n",
    "                decrease = 1\n",
    "            elif A[i] < A[i-1]:\n",
    "                decrease += 1\n",
    "                increase = 1\n",
    "            else:\n",
    "                increase, decrease = 1, 1\n",
    "            longest = max(longest, max(increase, decrease))\n",
    "        \n",
    "        return longest\n",
    "            \n",
    "        \n"
   ]
  },
  {
   "cell_type": "code",
   "execution_count": null,
   "metadata": {},
   "outputs": [],
   "source": []
  }
 ],
 "metadata": {
  "kernelspec": {
   "display_name": "Python 3",
   "language": "python",
   "name": "python3"
  },
  "language_info": {
   "codemirror_mode": {
    "name": "ipython",
    "version": 3
   },
   "file_extension": ".py",
   "mimetype": "text/x-python",
   "name": "python",
   "nbconvert_exporter": "python",
   "pygments_lexer": "ipython3",
   "version": "3.6.8"
  }
 },
 "nbformat": 4,
 "nbformat_minor": 2
}
