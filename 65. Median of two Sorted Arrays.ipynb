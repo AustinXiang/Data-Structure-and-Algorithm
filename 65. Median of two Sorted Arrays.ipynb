{
 "cells": [
  {
   "cell_type": "code",
   "execution_count": null,
   "metadata": {},
   "outputs": [],
   "source": [
    "class Solution:\n",
    "    \"\"\"\n",
    "    @param: A: An integer array\n",
    "    @param: B: An integer array\n",
    "    @return: a double whose format is *.5 or *.0\n",
    "    \"\"\"\n",
    "    def findMedianSortedArrays(self, A, B):\n",
    "        # write your code here\n",
    "        m = len(A)\n",
    "        n = len(B)\n",
    "        if (m + n) % 2 == 0:\n",
    "            small_value = self.findKth(A, 0, B, 0, (m+n)//2)\n",
    "            large_value = self.findKth(A, 0, B, 0, (m+n)//2 + 1)\n",
    "            return float(small_value + large_value)/2\n",
    "        else:\n",
    "            return self.findKth(A, 0, B, 0, (m+n)//2 + 1)\n",
    "        \n",
    "    \n",
    "    def findKth(self, A, index_A, B, index_B, k):\n",
    "        if len(A) == index_A:\n",
    "            return B[index_B + k - 1]\n",
    "        if len(B) == index_B:\n",
    "            return A[index_A + k - 1]\n",
    "        if k == 1:\n",
    "            return min(A[index_A], B[index_B])\n",
    "            \n",
    "        if index_A + k // 2 <= len(A):\n",
    "            a = A[index_A + k // 2 - 1]\n",
    "        else:\n",
    "            a = None\n",
    "        \n",
    "        if index_B + k // 2 <= len(B):\n",
    "            b = B[index_B + k // 2 - 1]\n",
    "        else:\n",
    "            b = None        \n",
    "        \n",
    "        \n",
    "        if b is None or (a is not None and a < b):\n",
    "            return self.findKth(A, index_A + k // 2, B, index_B, k - k // 2)\n",
    "        else:\n",
    "            return self.findKth(A, index_A, B, index_B + k // 2, k - k // 2)\n",
    "        "
   ]
  }
 ],
 "metadata": {
  "kernelspec": {
   "display_name": "Python 3",
   "language": "python",
   "name": "python3"
  },
  "language_info": {
   "codemirror_mode": {
    "name": "ipython",
    "version": 3
   },
   "file_extension": ".py",
   "mimetype": "text/x-python",
   "name": "python",
   "nbconvert_exporter": "python",
   "pygments_lexer": "ipython3",
   "version": "3.6.8"
  }
 },
 "nbformat": 4,
 "nbformat_minor": 2
}
