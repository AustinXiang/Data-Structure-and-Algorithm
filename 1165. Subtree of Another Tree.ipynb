{
 "cells": [
  {
   "cell_type": "code",
   "execution_count": 2,
   "metadata": {},
   "outputs": [],
   "source": [
    "\"\"\"\n",
    "Definition of TreeNode:\n",
    "class TreeNode:\n",
    "    def __init__(self, val):\n",
    "        self.val = val\n",
    "        self.left, self.right = None, None\n",
    "\"\"\"\n",
    "\n",
    "class Solution:\n",
    "    \"\"\"\n",
    "    @param s: the s' root\n",
    "    @param t: the t' root\n",
    "    @return: whether tree t has exactly the same structure and node values with a subtree of s\n",
    "    \"\"\"\n",
    "    def isSubtree(self, s, t):\n",
    "        # Write your code here\n",
    "        if s is None:\n",
    "            return t  is None\n",
    "        if s.val == t.val and self.compare(s, t):\n",
    "            return True\n",
    "        return self.isSubtree(s.left, t) or self.isSubtree(s.right, t)\n",
    "        \n",
    "        \n",
    "    def compare(self, s, t):\n",
    "        # to compare whether two trees are identical\n",
    "        if s is None:\n",
    "            return t is None\n",
    "        if t is None or s.val != t.val:\n",
    "            return False\n",
    "        return self.compare(s.left, t.left) and self.compare(s.right, t.right)\n",
    "        \n",
    "        \n"
   ]
  },
  {
   "cell_type": "code",
   "execution_count": null,
   "metadata": {},
   "outputs": [],
   "source": []
  }
 ],
 "metadata": {
  "kernelspec": {
   "display_name": "Python 3",
   "language": "python",
   "name": "python3"
  },
  "language_info": {
   "codemirror_mode": {
    "name": "ipython",
    "version": 3
   },
   "file_extension": ".py",
   "mimetype": "text/x-python",
   "name": "python",
   "nbconvert_exporter": "python",
   "pygments_lexer": "ipython3",
   "version": "3.6.8"
  }
 },
 "nbformat": 4,
 "nbformat_minor": 2
}
