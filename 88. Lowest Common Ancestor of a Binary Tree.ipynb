{
 "cells": [
  {
   "cell_type": "code",
   "execution_count": 1,
   "metadata": {},
   "outputs": [],
   "source": [
    "class Solution:\n",
    "    \"\"\"\n",
    "    @param: root: The root of the binary search tree.\n",
    "    @param: A: A TreeNode in a Binary.\n",
    "    @param: B: A TreeNode in a Binary.\n",
    "    @return: Return the least common ancestor(LCA) of the two nodes.\n",
    "    \"\"\"\n",
    "    def lowestCommonAncestor(self, root, A, B):\n",
    "        # write your code here\n",
    "        \n",
    "        if root is None:\n",
    "            return None\n",
    "            \n",
    "        if root == A or root == B:\n",
    "            return root\n",
    "            \n",
    "        left_result = self.lowestCommonAncestor(root.left, A, B)\n",
    "        right_result = self.lowestCommonAncestor(root.right, A, B)\n",
    "        \n",
    "        if left_result is not None and right_result is not None:\n",
    "            return root\n",
    "            \n",
    "        if left_result is not None:\n",
    "            return left_result\n",
    "            \n",
    "        if right_result is not None:\n",
    "            return right_result\n",
    "            \n",
    "        return None\n"
   ]
  },
  {
   "cell_type": "code",
   "execution_count": null,
   "metadata": {},
   "outputs": [],
   "source": []
  }
 ],
 "metadata": {
  "kernelspec": {
   "display_name": "Python 3",
   "language": "python",
   "name": "python3"
  },
  "language_info": {
   "codemirror_mode": {
    "name": "ipython",
    "version": 3
   },
   "file_extension": ".py",
   "mimetype": "text/x-python",
   "name": "python",
   "nbconvert_exporter": "python",
   "pygments_lexer": "ipython3",
   "version": "3.6.8"
  }
 },
 "nbformat": 4,
 "nbformat_minor": 2
}
