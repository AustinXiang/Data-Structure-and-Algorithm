{
 "cells": [
  {
   "cell_type": "code",
   "execution_count": 4,
   "metadata": {},
   "outputs": [],
   "source": [
    "\"\"\"\n",
    "Definition of TreeNode:\n",
    "class TreeNode:\n",
    "    def __init__(self, val):\n",
    "        self.val = val\n",
    "        self.left, self.right = None, None\n",
    "\"\"\"\n",
    "\n",
    "class Solution:\n",
    "    \"\"\"\n",
    "    @param a: the root of binary tree a.\n",
    "    @param b: the root of binary tree b.\n",
    "    @return: true if they are identical, or false.\n",
    "    \"\"\"\n",
    "    def isIdentical(self, a, b):\n",
    "        # write your code here\n",
    "        if a is None and b is None:\n",
    "            return True\n",
    "\n",
    "        if a is None or b is None:\n",
    "            return False\n",
    "\n",
    "        if a.left is None and b.left is None and a.right is None and b.right is None:\n",
    "            if a.val == b.val:\n",
    "                return True\n",
    "            \n",
    "        if self.isIdentical(a.left, b.left) and self.isIdentical(a.right, b.right) and a.val == b.val:\n",
    "            return True\n",
    "            \n",
    "        return False"
   ]
  },
  {
   "cell_type": "code",
   "execution_count": null,
   "metadata": {},
   "outputs": [],
   "source": []
  }
 ],
 "metadata": {
  "kernelspec": {
   "display_name": "Python 3",
   "language": "python",
   "name": "python3"
  },
  "language_info": {
   "codemirror_mode": {
    "name": "ipython",
    "version": 3
   },
   "file_extension": ".py",
   "mimetype": "text/x-python",
   "name": "python",
   "nbconvert_exporter": "python",
   "pygments_lexer": "ipython3",
   "version": "3.6.8"
  }
 },
 "nbformat": 4,
 "nbformat_minor": 2
}
