{
 "cells": [
  {
   "cell_type": "code",
   "execution_count": 1,
   "metadata": {},
   "outputs": [],
   "source": [
    "class Solution:\n",
    "    \"\"\"\n",
    "    @param A: an integer ratated sorted array and duplicates are allowed\n",
    "    @param target: An integer\n",
    "    @return: a boolean \n",
    "    \"\"\"\n",
    "    def search(self, A, target):\n",
    "        # write your code here\n",
    "        # In a sorted array with duplicates, let's consider a case\n",
    "        # 1 1 1 1 1 0 1 1 and we would like to check whether 0 is in it\n",
    "        # you just have to go through everyone before you can find the element.\n",
    "        \n",
    "        if A is None or len(A) == 0:\n",
    "            return False\n",
    "        \n",
    "        for item in A:\n",
    "            if item ==  target:\n",
    "                return True\n",
    "                \n",
    "        return False\n",
    "        "
   ]
  },
  {
   "cell_type": "code",
   "execution_count": null,
   "metadata": {},
   "outputs": [],
   "source": [
    "# It has passed all test cases\n",
    "# "
   ]
  }
 ],
 "metadata": {
  "kernelspec": {
   "display_name": "Python 3",
   "language": "python",
   "name": "python3"
  },
  "language_info": {
   "codemirror_mode": {
    "name": "ipython",
    "version": 3
   },
   "file_extension": ".py",
   "mimetype": "text/x-python",
   "name": "python",
   "nbconvert_exporter": "python",
   "pygments_lexer": "ipython3",
   "version": "3.6.8"
  }
 },
 "nbformat": 4,
 "nbformat_minor": 2
}
