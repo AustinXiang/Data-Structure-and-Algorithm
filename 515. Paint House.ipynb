{
 "cells": [
  {
   "cell_type": "code",
   "execution_count": 2,
   "metadata": {},
   "outputs": [],
   "source": [
    "class Solution:\n",
    "    \"\"\"\n",
    "    @param costs: n x 3 cost matrix\n",
    "    @return: An integer, the minimum cost to paint all houses\n",
    "    \"\"\"\n",
    "    def minCost(self, costs):\n",
    "        # write your code here\n",
    "        pr_1 = 0\n",
    "        pb_1 = 0\n",
    "        pg_1 = 0\n",
    "        for cost in costs:\n",
    "            pr = min(pb_1, pg_1) + cost[0]\n",
    "            pb = min(pr_1, pg_1) + cost[1]\n",
    "            pg = min(pr_1, pb_1) + cost[2]\n",
    "            pr_1 = pr\n",
    "            pb_1 = pb\n",
    "            pg_1 = pg\n",
    "        return min(pr_1, pb_1, pg_1)\n"
   ]
  },
  {
   "cell_type": "code",
   "execution_count": null,
   "metadata": {},
   "outputs": [],
   "source": []
  }
 ],
 "metadata": {
  "kernelspec": {
   "display_name": "Python 3",
   "language": "python",
   "name": "python3"
  },
  "language_info": {
   "codemirror_mode": {
    "name": "ipython",
    "version": 3
   },
   "file_extension": ".py",
   "mimetype": "text/x-python",
   "name": "python",
   "nbconvert_exporter": "python",
   "pygments_lexer": "ipython3",
   "version": "3.6.8"
  }
 },
 "nbformat": 4,
 "nbformat_minor": 2
}
