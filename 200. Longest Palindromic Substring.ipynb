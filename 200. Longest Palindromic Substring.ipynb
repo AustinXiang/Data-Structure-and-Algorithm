{
 "cells": [
  {
   "cell_type": "code",
   "execution_count": 2,
   "metadata": {},
   "outputs": [],
   "source": [
    "class Solution:\n",
    "    \"\"\"\n",
    "    @param s: input string\n",
    "    @return: the longest palindromic substring\n",
    "    \"\"\"\n",
    "    def longestPalindrome(self, s):\n",
    "        if not s:\n",
    "            return \"\"\n",
    "            \n",
    "        longest = \"\"\n",
    "        for middle in range(len(s)):\n",
    "            sub = self.find_palindrome_from(s, middle, middle)\n",
    "            if len(sub) > len(longest):\n",
    "                longest = sub\n",
    "            sub = self.find_palindrome_from(s, middle, middle + 1)\n",
    "            if len(sub) > len(longest):\n",
    "                longest = sub\n",
    "\n",
    "        return longest\n",
    "        \n",
    "    def find_palindrome_from(self, string, left, right):\n",
    "        while left >= 0 and right < len(string) and string[left] == string[right]:\n",
    "            left -= 1\n",
    "            right += 1\n",
    "            \n",
    "        return string[left + 1:right]"
   ]
  },
  {
   "cell_type": "code",
   "execution_count": null,
   "metadata": {},
   "outputs": [],
   "source": []
  }
 ],
 "metadata": {
  "kernelspec": {
   "display_name": "Python 3",
   "language": "python",
   "name": "python3"
  },
  "language_info": {
   "codemirror_mode": {
    "name": "ipython",
    "version": 3
   },
   "file_extension": ".py",
   "mimetype": "text/x-python",
   "name": "python",
   "nbconvert_exporter": "python",
   "pygments_lexer": "ipython3",
   "version": "3.6.8"
  }
 },
 "nbformat": 4,
 "nbformat_minor": 2
}
