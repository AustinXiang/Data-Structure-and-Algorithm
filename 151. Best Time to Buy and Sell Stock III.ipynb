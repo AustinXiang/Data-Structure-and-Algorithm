{
 "cells": [
  {
   "cell_type": "code",
   "execution_count": 2,
   "metadata": {},
   "outputs": [],
   "source": [
    "class Solution:\n",
    "    \"\"\"\n",
    "    @param prices: Given an integer array\n",
    "    @return: Maximum profit\n",
    "    \"\"\"\n",
    "    def maxProfit(self, prices):\n",
    "        # write your code here\n",
    "        if prices is None or len(prices) == 0:\n",
    "            return 0\n",
    "        \n",
    "        left, right = [0]*len(prices), [0]*len(prices)\n",
    "        \n",
    "        minValue = prices[0]\n",
    "        for i in range(1, len(prices)):\n",
    "            minValue = min(prices[i], minValue)\n",
    "            left[i] = max(left[i-1], prices[i] - minValue)\n",
    "            \n",
    "        maxValue = prices[-1]\n",
    "        for i in range(len(prices)-2, -1, -1):\n",
    "            maxValue = max(maxValue, prices[i])\n",
    "            right[i] = max(right[i+1], maxValue - prices[i])\n",
    "            \n",
    "        result = 0\n",
    "        for i in range(len(prices)):\n",
    "            result = max(result, left[i]+right[i])\n",
    "            \n",
    "        return result\n",
    "        \n"
   ]
  },
  {
   "cell_type": "code",
   "execution_count": null,
   "metadata": {},
   "outputs": [],
   "source": []
  }
 ],
 "metadata": {
  "kernelspec": {
   "display_name": "Python 3",
   "language": "python",
   "name": "python3"
  },
  "language_info": {
   "codemirror_mode": {
    "name": "ipython",
    "version": 3
   },
   "file_extension": ".py",
   "mimetype": "text/x-python",
   "name": "python",
   "nbconvert_exporter": "python",
   "pygments_lexer": "ipython3",
   "version": "3.6.8"
  }
 },
 "nbformat": 4,
 "nbformat_minor": 2
}
