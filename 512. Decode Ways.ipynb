{
 "cells": [
  {
   "cell_type": "code",
   "execution_count": 2,
   "metadata": {},
   "outputs": [],
   "source": [
    "class Solution:\n",
    "    \"\"\"\n",
    "    @param s: a string,  encoded message\n",
    "    @return: an integer, the number of ways decoding\n",
    "    \"\"\"\n",
    "    def numDecodings(self, s):\n",
    "        # write your code here\n",
    "        if s is None or len(s) == 0 or int(s[0]) == 0:\n",
    "            return 0\n",
    "            \n",
    "\n",
    "        dp = [1, 1]\n",
    "        for i in range(2,len(s) + 1):\n",
    "            if 10 <= int(s[i - 2 : i]) <=26 and s[i - 1] != '0':\n",
    "                dp.append(dp[i - 1] + dp[i - 2])\n",
    "            elif int(s[i-2 : i]) == 10 or int(s[i - 2 : i]) == 20:\n",
    "                dp.append(dp[i - 2])\n",
    "            elif s[i-1] != '0':\n",
    "                dp.append(dp[i-1])\n",
    "            else:\n",
    "                return 0\n",
    "\n",
    "        return dp[len(s)]"
   ]
  },
  {
   "cell_type": "code",
   "execution_count": null,
   "metadata": {},
   "outputs": [],
   "source": []
  }
 ],
 "metadata": {
  "kernelspec": {
   "display_name": "Python 3",
   "language": "python",
   "name": "python3"
  },
  "language_info": {
   "codemirror_mode": {
    "name": "ipython",
    "version": 3
   },
   "file_extension": ".py",
   "mimetype": "text/x-python",
   "name": "python",
   "nbconvert_exporter": "python",
   "pygments_lexer": "ipython3",
   "version": "3.6.8"
  }
 },
 "nbformat": 4,
 "nbformat_minor": 2
}
