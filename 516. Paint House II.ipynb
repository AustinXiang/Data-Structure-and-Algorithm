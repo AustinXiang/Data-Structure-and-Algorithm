{
 "cells": [
  {
   "cell_type": "code",
   "execution_count": 2,
   "metadata": {},
   "outputs": [],
   "source": [
    "class Solution:\n",
    "    \"\"\"\n",
    "    @param costs: n x k cost matrix\n",
    "    @return: an integer, the minimum cost to paint all houses\n",
    "    \"\"\"\n",
    "    def minCostII(self, costs):\n",
    "        # write your code here\n",
    "        if costs is None or len(costs) == 0:\n",
    "            return 0\n",
    "        \n",
    "        k = len(costs[0])\n",
    "        old_cost = [0 for _ in range(k)]\n",
    "        new_cost = [0 for _ in range(k)]\n",
    "        \n",
    "        for cost in costs:\n",
    "            for i in range(k):\n",
    "                new_cost[i] = min(old_cost[:i] + old_cost[i+1:]) + cost[i]\n",
    "            old_cost[:] = new_cost[:]\n",
    "        \n",
    "        return min(new_cost)\n",
    "                        \n",
    "                    \n",
    "        \n",
    "        \n"
   ]
  },
  {
   "cell_type": "code",
   "execution_count": null,
   "metadata": {},
   "outputs": [],
   "source": []
  }
 ],
 "metadata": {
  "kernelspec": {
   "display_name": "Python 3",
   "language": "python",
   "name": "python3"
  },
  "language_info": {
   "codemirror_mode": {
    "name": "ipython",
    "version": 3
   },
   "file_extension": ".py",
   "mimetype": "text/x-python",
   "name": "python",
   "nbconvert_exporter": "python",
   "pygments_lexer": "ipython3",
   "version": "3.6.8"
  }
 },
 "nbformat": 4,
 "nbformat_minor": 2
}
