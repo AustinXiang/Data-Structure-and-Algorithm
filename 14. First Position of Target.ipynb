{
 "cells": [
  {
   "cell_type": "code",
   "execution_count": 1,
   "metadata": {},
   "outputs": [],
   "source": [
    "class Solution:\n",
    "    \"\"\"\n",
    "    @param nums: The integer array.\n",
    "    @param target: Target to find.\n",
    "    @return: The first position of target. Position starts from 0.\n",
    "    \"\"\"\n",
    "    def binarySearch(self, nums, target):\n",
    "        # write your code here\n",
    "        if nums is None or len(nums) == 0:\n",
    "            return -1\n",
    "            \n",
    "        start = 0\n",
    "        end = len(nums) - 1\n",
    "        \n",
    "        while (start + 1 < end):\n",
    "            mid = start + (end-start)/2\n",
    "            mid = int(mid)\n",
    "            if nums[mid] == target:\n",
    "                end = mid\n",
    "            elif nums[mid] < target:\n",
    "                start = mid\n",
    "            else:\n",
    "                end = mid\n",
    "                \n",
    "        if nums[start] == target:\n",
    "            return start\n",
    "        \n",
    "        if nums[end] == target:\n",
    "            return end\n",
    "            \n",
    "        return -1"
   ]
  },
  {
   "cell_type": "code",
   "execution_count": null,
   "metadata": {},
   "outputs": [],
   "source": [
    "# It passed all "
   ]
  }
 ],
 "metadata": {
  "kernelspec": {
   "display_name": "Python 3",
   "language": "python",
   "name": "python3"
  },
  "language_info": {
   "codemirror_mode": {
    "name": "ipython",
    "version": 3
   },
   "file_extension": ".py",
   "mimetype": "text/x-python",
   "name": "python",
   "nbconvert_exporter": "python",
   "pygments_lexer": "ipython3",
   "version": "3.6.8"
  }
 },
 "nbformat": 4,
 "nbformat_minor": 2
}
